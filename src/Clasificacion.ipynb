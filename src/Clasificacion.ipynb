{
 "cells": [
  {
   "cell_type": "code",
   "execution_count": 1,
   "metadata": {},
   "outputs": [],
   "source": [
    "# Instalamos librerias necesarias\n",
    "# %pip install unidecode\n",
    "\n",
    "# Importamos librerias necesarias\n",
    "import numpy as np\n",
    "import pandas as pd\n",
    "from unidecode import unidecode\n",
    "import matplotlib.pyplot as plt\n",
    "import re \n",
    "import plotly.express as px"
   ]
  },
  {
   "cell_type": "code",
   "execution_count": 3,
   "metadata": {},
   "outputs": [
    {
     "name": "stderr",
     "output_type": "stream",
     "text": [
      "/var/folders/_n/15dj3g9532b7lqmq3dcy_1jw0000gp/T/ipykernel_86866/2714462107.py:2: DtypeWarning: Columns (35,37) have mixed types. Specify dtype option on import or set low_memory=False.\n",
      "  data1 = pd.read_csv(\"../data/denue_inegi_46111_.csv\", index_col=\"id\",\n",
      "/var/folders/_n/15dj3g9532b7lqmq3dcy_1jw0000gp/T/ipykernel_86866/2714462107.py:4: DtypeWarning: Columns (35) have mixed types. Specify dtype option on import or set low_memory=False.\n",
      "  data2 = pd.read_csv(\"../data/denue_inegi_46112-46311_.csv\", index_col=\"id\",\n",
      "/var/folders/_n/15dj3g9532b7lqmq3dcy_1jw0000gp/T/ipykernel_86866/2714462107.py:6: DtypeWarning: Columns (35) have mixed types. Specify dtype option on import or set low_memory=False.\n",
      "  data3 = pd.read_csv(\"../data/denue_inegi_46321-46531_.csv\", index_col=\"id\",\n",
      "/var/folders/_n/15dj3g9532b7lqmq3dcy_1jw0000gp/T/ipykernel_86866/2714462107.py:8: DtypeWarning: Columns (35) have mixed types. Specify dtype option on import or set low_memory=False.\n",
      "  data4 = pd.read_csv(\"../data/denue_inegi_46591-46911_.csv\", index_col=\"id\",\n"
     ]
    }
   ],
   "source": [
    "# Leemos los datos\n",
    "data1 = pd.read_csv(\"../data/denue_inegi_46111_.csv\", index_col=\"id\",\n",
    "                   encoding='latin-1')\n",
    "data2 = pd.read_csv(\"../data/denue_inegi_46112-46311_.csv\", index_col=\"id\",\n",
    "                   encoding='latin-1')\n",
    "data3 = pd.read_csv(\"../data/denue_inegi_46321-46531_.csv\", index_col=\"id\",\n",
    "                   encoding='latin-1')\n",
    "data4 = pd.read_csv(\"../data/denue_inegi_46591-46911_.csv\", index_col=\"id\",\n",
    "                   encoding='latin-1')\n",
    "\n",
    "antad = pd.read_csv(\"../data/empresas_antad.csv\")\n",
    "\n",
    "data = pd.concat([data1, data2, data3, data4], ignore_index=True)"
   ]
  },
  {
   "cell_type": "code",
   "execution_count": 4,
   "metadata": {},
   "outputs": [],
   "source": [
    "def extract_average(range_str):\n",
    "    if 'y más' in range_str:\n",
    "        # Para 251 y más\n",
    "        return 251\n",
    "    else:\n",
    "        # Extraemos para cada string\n",
    "        numbers = [int(s) for s in range_str.split() if s.isdigit()]\n",
    "        return sum(numbers) / len(numbers)\n",
    "\n",
    "data['per_ocu'] = data['per_ocu'].apply(extract_average)"
   ]
  },
  {
   "cell_type": "code",
   "execution_count": 5,
   "metadata": {},
   "outputs": [],
   "source": [
    "empresas = data.groupby('raz_social')['per_ocu'].sum().reset_index()"
   ]
  },
  {
   "cell_type": "code",
   "execution_count": 6,
   "metadata": {},
   "outputs": [
    {
     "data": {
      "text/html": [
       "<div>\n",
       "<style scoped>\n",
       "    .dataframe tbody tr th:only-of-type {\n",
       "        vertical-align: middle;\n",
       "    }\n",
       "\n",
       "    .dataframe tbody tr th {\n",
       "        vertical-align: top;\n",
       "    }\n",
       "\n",
       "    .dataframe thead th {\n",
       "        text-align: right;\n",
       "    }\n",
       "</style>\n",
       "<table border=\"1\" class=\"dataframe\">\n",
       "  <thead>\n",
       "    <tr style=\"text-align: right;\">\n",
       "      <th></th>\n",
       "      <th>Nombre Comercial</th>\n",
       "      <th>Razón social</th>\n",
       "      <th>Formato</th>\n",
       "      <th>Especialización</th>\n",
       "    </tr>\n",
       "  </thead>\n",
       "  <tbody>\n",
       "    <tr>\n",
       "      <th>0</th>\n",
       "      <td>ALSUPER</td>\n",
       "      <td>OPERADORA FUTURAMA S.A. DE C.V.</td>\n",
       "      <td>Autoservicio</td>\n",
       "      <td>NaN</td>\n",
       "    </tr>\n",
       "    <tr>\n",
       "      <th>1</th>\n",
       "      <td>CASA LEY</td>\n",
       "      <td>CASA LEY S.A.P.I. DE C.V.</td>\n",
       "      <td>Autoservicio</td>\n",
       "      <td>NaN</td>\n",
       "    </tr>\n",
       "    <tr>\n",
       "      <th>2</th>\n",
       "      <td>CENTRO COMERCIAL CRUZ AZUL</td>\n",
       "      <td>CENTRO COMERCIAL CRUZ AZUL S.A. DE C.V.</td>\n",
       "      <td>Autoservicio</td>\n",
       "      <td>NaN</td>\n",
       "    </tr>\n",
       "    <tr>\n",
       "      <th>3</th>\n",
       "      <td>CHEDRAUI</td>\n",
       "      <td>TIENDAS CHEDRAUI S.A. DE C.V.</td>\n",
       "      <td>Autoservicio</td>\n",
       "      <td>NaN</td>\n",
       "    </tr>\n",
       "    <tr>\n",
       "      <th>4</th>\n",
       "      <td>LA COMER</td>\n",
       "      <td>COMERCIAL CITY FRESKO S. DE R.L. DE C.V</td>\n",
       "      <td>Autoservicio</td>\n",
       "      <td>NaN</td>\n",
       "    </tr>\n",
       "    <tr>\n",
       "      <th>...</th>\n",
       "      <td>...</td>\n",
       "      <td>...</td>\n",
       "      <td>...</td>\n",
       "      <td>...</td>\n",
       "    </tr>\n",
       "    <tr>\n",
       "      <th>88</th>\n",
       "      <td>STEREN</td>\n",
       "      <td>ELECTRÓNICA STEREN S.A. DE C.V.</td>\n",
       "      <td>Especializada</td>\n",
       "      <td>Tienda de Electrónica</td>\n",
       "    </tr>\n",
       "    <tr>\n",
       "      <th>89</th>\n",
       "      <td>SFERA MODA JOVEN</td>\n",
       "      <td>OPERADORA SFERA JOVEN MEXICO SA DE CV</td>\n",
       "      <td>Especializada</td>\n",
       "      <td>Tienda de Ropa</td>\n",
       "    </tr>\n",
       "    <tr>\n",
       "      <th>90</th>\n",
       "      <td>SUPER NATURISTA</td>\n",
       "      <td>SUPER MAYOREO NATURISTA S.A. DE C.V.</td>\n",
       "      <td>Especializada</td>\n",
       "      <td>Tienda de Alimentos Saludables</td>\n",
       "    </tr>\n",
       "    <tr>\n",
       "      <th>91</th>\n",
       "      <td>CARTERS</td>\n",
       "      <td>CARTERS BRANDS S.A. DE C.V.</td>\n",
       "      <td>Especializada</td>\n",
       "      <td>Tienda de Ropa Infantil</td>\n",
       "    </tr>\n",
       "    <tr>\n",
       "      <th>92</th>\n",
       "      <td>LA FERRE</td>\n",
       "      <td>LA FERRE COMERCIALIZADORA S.A. DE C.V.</td>\n",
       "      <td>Especializada</td>\n",
       "      <td>Ferretería</td>\n",
       "    </tr>\n",
       "  </tbody>\n",
       "</table>\n",
       "<p>93 rows × 4 columns</p>\n",
       "</div>"
      ],
      "text/plain": [
       "              Nombre Comercial                             Razón social  \\\n",
       "0                      ALSUPER          OPERADORA FUTURAMA S.A. DE C.V.   \n",
       "1                     CASA LEY                CASA LEY S.A.P.I. DE C.V.   \n",
       "2   CENTRO COMERCIAL CRUZ AZUL  CENTRO COMERCIAL CRUZ AZUL S.A. DE C.V.   \n",
       "3                     CHEDRAUI            TIENDAS CHEDRAUI S.A. DE C.V.   \n",
       "4                     LA COMER  COMERCIAL CITY FRESKO S. DE R.L. DE C.V   \n",
       "..                         ...                                      ...   \n",
       "88                      STEREN          ELECTRÓNICA STEREN S.A. DE C.V.   \n",
       "89            SFERA MODA JOVEN    OPERADORA SFERA JOVEN MEXICO SA DE CV   \n",
       "90             SUPER NATURISTA     SUPER MAYOREO NATURISTA S.A. DE C.V.   \n",
       "91                     CARTERS              CARTERS BRANDS S.A. DE C.V.   \n",
       "92                    LA FERRE   LA FERRE COMERCIALIZADORA S.A. DE C.V.   \n",
       "\n",
       "          Formato                 Especialización  \n",
       "0    Autoservicio                             NaN  \n",
       "1    Autoservicio                             NaN  \n",
       "2    Autoservicio                             NaN  \n",
       "3    Autoservicio                             NaN  \n",
       "4    Autoservicio                             NaN  \n",
       "..            ...                             ...  \n",
       "88  Especializada           Tienda de Electrónica  \n",
       "89  Especializada                  Tienda de Ropa  \n",
       "90  Especializada  Tienda de Alimentos Saludables  \n",
       "91  Especializada         Tienda de Ropa Infantil  \n",
       "92  Especializada                      Ferretería  \n",
       "\n",
       "[93 rows x 4 columns]"
      ]
     },
     "execution_count": 6,
     "metadata": {},
     "output_type": "execute_result"
    }
   ],
   "source": [
    "antad"
   ]
  },
  {
   "cell_type": "code",
   "execution_count": 7,
   "metadata": {},
   "outputs": [],
   "source": [
    "def limpia_nombre(name):\n",
    "    name = name.replace(\"R. L.\", \"RL\")\n",
    "    # Quitamos acentos\n",
    "    name = unidecode(name)\n",
    "    # Limpiamos en general\n",
    "    name = re.sub(r\"[^\\w\\s&]\", \"\", name)\n",
    "    # Quitamos puntos\n",
    "    name = name.replace('.', '').upper()\n",
    "    name = name.strip()\n",
    "    return name\n",
    "\n",
    "# Limpiamos el nombre del segundo data set\n",
    "antad['raz_social'] = antad['Razón social'].apply(limpia_nombre)\n",
    "empresas['raz_social'] = empresas['raz_social'].apply(limpia_nombre)\n",
    "\n",
    "# Hacemos el join\n",
    "merge = antad.merge(empresas[['raz_social', 'per_ocu']], \n",
    "                      on='raz_social', \n",
    "                      how='inner')\n",
    "\n",
    "# Renombramos la columna\n",
    "merge = merge.rename(columns={'per_ocu': 'total_personas'})"
   ]
  },
  {
   "cell_type": "code",
   "execution_count": 8,
   "metadata": {},
   "outputs": [
    {
     "data": {
      "text/html": [
       "<div>\n",
       "<style scoped>\n",
       "    .dataframe tbody tr th:only-of-type {\n",
       "        vertical-align: middle;\n",
       "    }\n",
       "\n",
       "    .dataframe tbody tr th {\n",
       "        vertical-align: top;\n",
       "    }\n",
       "\n",
       "    .dataframe thead th {\n",
       "        text-align: right;\n",
       "    }\n",
       "</style>\n",
       "<table border=\"1\" class=\"dataframe\">\n",
       "  <thead>\n",
       "    <tr style=\"text-align: right;\">\n",
       "      <th></th>\n",
       "      <th>Nombre Comercial</th>\n",
       "      <th>Razón social</th>\n",
       "      <th>Formato</th>\n",
       "      <th>Especialización</th>\n",
       "      <th>raz_social</th>\n",
       "      <th>total_personas</th>\n",
       "    </tr>\n",
       "  </thead>\n",
       "  <tbody>\n",
       "    <tr>\n",
       "      <th>0</th>\n",
       "      <td>ALSUPER</td>\n",
       "      <td>OPERADORA FUTURAMA S.A. DE C.V.</td>\n",
       "      <td>Autoservicio</td>\n",
       "      <td>NaN</td>\n",
       "      <td>OPERADORA FUTURAMA SA DE CV</td>\n",
       "      <td>13471.5</td>\n",
       "    </tr>\n",
       "    <tr>\n",
       "      <th>1</th>\n",
       "      <td>CASA LEY</td>\n",
       "      <td>CASA LEY S.A.P.I. DE C.V.</td>\n",
       "      <td>Autoservicio</td>\n",
       "      <td>NaN</td>\n",
       "      <td>CASA LEY SAPI DE CV</td>\n",
       "      <td>22667.5</td>\n",
       "    </tr>\n",
       "    <tr>\n",
       "      <th>2</th>\n",
       "      <td>CENTRO COMERCIAL CRUZ AZUL</td>\n",
       "      <td>CENTRO COMERCIAL CRUZ AZUL S.A. DE C.V.</td>\n",
       "      <td>Autoservicio</td>\n",
       "      <td>NaN</td>\n",
       "      <td>CENTRO COMERCIAL CRUZ AZUL SA DE CV</td>\n",
       "      <td>527.5</td>\n",
       "    </tr>\n",
       "    <tr>\n",
       "      <th>3</th>\n",
       "      <td>CHEDRAUI</td>\n",
       "      <td>TIENDAS CHEDRAUI S.A. DE C.V.</td>\n",
       "      <td>Autoservicio</td>\n",
       "      <td>NaN</td>\n",
       "      <td>TIENDAS CHEDRAUI SA DE CV</td>\n",
       "      <td>46960.5</td>\n",
       "    </tr>\n",
       "    <tr>\n",
       "      <th>4</th>\n",
       "      <td>LA COMER</td>\n",
       "      <td>COMERCIAL CITY FRESKO S. DE R.L. DE C.V</td>\n",
       "      <td>Autoservicio</td>\n",
       "      <td>NaN</td>\n",
       "      <td>COMERCIAL CITY FRESKO S DE RL DE CV</td>\n",
       "      <td>14539.0</td>\n",
       "    </tr>\n",
       "    <tr>\n",
       "      <th>...</th>\n",
       "      <td>...</td>\n",
       "      <td>...</td>\n",
       "      <td>...</td>\n",
       "      <td>...</td>\n",
       "      <td>...</td>\n",
       "      <td>...</td>\n",
       "    </tr>\n",
       "    <tr>\n",
       "      <th>86</th>\n",
       "      <td>STEREN</td>\n",
       "      <td>ELECTRÓNICA STEREN S.A. DE C.V.</td>\n",
       "      <td>Especializada</td>\n",
       "      <td>Tienda de Electrónica</td>\n",
       "      <td>ELECTRONICA STEREN SA DE CV</td>\n",
       "      <td>114.0</td>\n",
       "    </tr>\n",
       "    <tr>\n",
       "      <th>87</th>\n",
       "      <td>SFERA MODA JOVEN</td>\n",
       "      <td>OPERADORA SFERA JOVEN MEXICO SA DE CV</td>\n",
       "      <td>Especializada</td>\n",
       "      <td>Tienda de Ropa</td>\n",
       "      <td>OPERADORA SFERA JOVEN MEXICO SA DE CV</td>\n",
       "      <td>686.5</td>\n",
       "    </tr>\n",
       "    <tr>\n",
       "      <th>88</th>\n",
       "      <td>SUPER NATURISTA</td>\n",
       "      <td>SUPER MAYOREO NATURISTA S.A. DE C.V.</td>\n",
       "      <td>Especializada</td>\n",
       "      <td>Tienda de Alimentos Saludables</td>\n",
       "      <td>SUPER MAYOREO NATURISTA SA DE CV</td>\n",
       "      <td>217.5</td>\n",
       "    </tr>\n",
       "    <tr>\n",
       "      <th>89</th>\n",
       "      <td>CARTERS</td>\n",
       "      <td>CARTERS BRANDS S.A. DE C.V.</td>\n",
       "      <td>Especializada</td>\n",
       "      <td>Tienda de Ropa Infantil</td>\n",
       "      <td>CARTERS BRANDS SA DE CV</td>\n",
       "      <td>364.5</td>\n",
       "    </tr>\n",
       "    <tr>\n",
       "      <th>90</th>\n",
       "      <td>LA FERRE</td>\n",
       "      <td>LA FERRE COMERCIALIZADORA S.A. DE C.V.</td>\n",
       "      <td>Especializada</td>\n",
       "      <td>Ferretería</td>\n",
       "      <td>LA FERRE COMERCIALIZADORA SA DE CV</td>\n",
       "      <td>556.5</td>\n",
       "    </tr>\n",
       "  </tbody>\n",
       "</table>\n",
       "<p>91 rows × 6 columns</p>\n",
       "</div>"
      ],
      "text/plain": [
       "              Nombre Comercial                             Razón social  \\\n",
       "0                      ALSUPER          OPERADORA FUTURAMA S.A. DE C.V.   \n",
       "1                     CASA LEY                CASA LEY S.A.P.I. DE C.V.   \n",
       "2   CENTRO COMERCIAL CRUZ AZUL  CENTRO COMERCIAL CRUZ AZUL S.A. DE C.V.   \n",
       "3                     CHEDRAUI            TIENDAS CHEDRAUI S.A. DE C.V.   \n",
       "4                     LA COMER  COMERCIAL CITY FRESKO S. DE R.L. DE C.V   \n",
       "..                         ...                                      ...   \n",
       "86                      STEREN          ELECTRÓNICA STEREN S.A. DE C.V.   \n",
       "87            SFERA MODA JOVEN    OPERADORA SFERA JOVEN MEXICO SA DE CV   \n",
       "88             SUPER NATURISTA     SUPER MAYOREO NATURISTA S.A. DE C.V.   \n",
       "89                     CARTERS              CARTERS BRANDS S.A. DE C.V.   \n",
       "90                    LA FERRE   LA FERRE COMERCIALIZADORA S.A. DE C.V.   \n",
       "\n",
       "          Formato                 Especialización  \\\n",
       "0    Autoservicio                             NaN   \n",
       "1    Autoservicio                             NaN   \n",
       "2    Autoservicio                             NaN   \n",
       "3    Autoservicio                             NaN   \n",
       "4    Autoservicio                             NaN   \n",
       "..            ...                             ...   \n",
       "86  Especializada           Tienda de Electrónica   \n",
       "87  Especializada                  Tienda de Ropa   \n",
       "88  Especializada  Tienda de Alimentos Saludables   \n",
       "89  Especializada         Tienda de Ropa Infantil   \n",
       "90  Especializada                      Ferretería   \n",
       "\n",
       "                               raz_social  total_personas  \n",
       "0             OPERADORA FUTURAMA SA DE CV         13471.5  \n",
       "1                     CASA LEY SAPI DE CV         22667.5  \n",
       "2     CENTRO COMERCIAL CRUZ AZUL SA DE CV           527.5  \n",
       "3               TIENDAS CHEDRAUI SA DE CV         46960.5  \n",
       "4     COMERCIAL CITY FRESKO S DE RL DE CV         14539.0  \n",
       "..                                    ...             ...  \n",
       "86            ELECTRONICA STEREN SA DE CV           114.0  \n",
       "87  OPERADORA SFERA JOVEN MEXICO SA DE CV           686.5  \n",
       "88       SUPER MAYOREO NATURISTA SA DE CV           217.5  \n",
       "89                CARTERS BRANDS SA DE CV           364.5  \n",
       "90     LA FERRE COMERCIALIZADORA SA DE CV           556.5  \n",
       "\n",
       "[91 rows x 6 columns]"
      ]
     },
     "execution_count": 8,
     "metadata": {},
     "output_type": "execute_result"
    }
   ],
   "source": [
    "merge"
   ]
  },
  {
   "cell_type": "code",
   "execution_count": 10,
   "metadata": {},
   "outputs": [],
   "source": [
    "\n",
    "bins = [0, 10, 50, 250, float('inf')]\n",
    "labels = ['Micro', 'Pequeña', 'Mediana', 'Grande']\n",
    "\n",
    "merge['tamaño'] = pd.cut(merge['total_personas'], bins=bins, labels=labels, include_lowest=True)"
   ]
  },
  {
   "cell_type": "code",
   "execution_count": 11,
   "metadata": {},
   "outputs": [
    {
     "data": {
      "text/html": [
       "<div>\n",
       "<style scoped>\n",
       "    .dataframe tbody tr th:only-of-type {\n",
       "        vertical-align: middle;\n",
       "    }\n",
       "\n",
       "    .dataframe tbody tr th {\n",
       "        vertical-align: top;\n",
       "    }\n",
       "\n",
       "    .dataframe thead th {\n",
       "        text-align: right;\n",
       "    }\n",
       "</style>\n",
       "<table border=\"1\" class=\"dataframe\">\n",
       "  <thead>\n",
       "    <tr style=\"text-align: right;\">\n",
       "      <th></th>\n",
       "      <th>Nombre Comercial</th>\n",
       "      <th>Razón social</th>\n",
       "      <th>Formato</th>\n",
       "      <th>Especialización</th>\n",
       "      <th>raz_social</th>\n",
       "      <th>total_personas</th>\n",
       "      <th>tamaño</th>\n",
       "    </tr>\n",
       "  </thead>\n",
       "  <tbody>\n",
       "    <tr>\n",
       "      <th>0</th>\n",
       "      <td>ALSUPER</td>\n",
       "      <td>OPERADORA FUTURAMA S.A. DE C.V.</td>\n",
       "      <td>Autoservicio</td>\n",
       "      <td>NaN</td>\n",
       "      <td>OPERADORA FUTURAMA SA DE CV</td>\n",
       "      <td>13471.5</td>\n",
       "      <td>Grande</td>\n",
       "    </tr>\n",
       "    <tr>\n",
       "      <th>1</th>\n",
       "      <td>CASA LEY</td>\n",
       "      <td>CASA LEY S.A.P.I. DE C.V.</td>\n",
       "      <td>Autoservicio</td>\n",
       "      <td>NaN</td>\n",
       "      <td>CASA LEY SAPI DE CV</td>\n",
       "      <td>22667.5</td>\n",
       "      <td>Grande</td>\n",
       "    </tr>\n",
       "    <tr>\n",
       "      <th>2</th>\n",
       "      <td>CENTRO COMERCIAL CRUZ AZUL</td>\n",
       "      <td>CENTRO COMERCIAL CRUZ AZUL S.A. DE C.V.</td>\n",
       "      <td>Autoservicio</td>\n",
       "      <td>NaN</td>\n",
       "      <td>CENTRO COMERCIAL CRUZ AZUL SA DE CV</td>\n",
       "      <td>527.5</td>\n",
       "      <td>Grande</td>\n",
       "    </tr>\n",
       "    <tr>\n",
       "      <th>3</th>\n",
       "      <td>CHEDRAUI</td>\n",
       "      <td>TIENDAS CHEDRAUI S.A. DE C.V.</td>\n",
       "      <td>Autoservicio</td>\n",
       "      <td>NaN</td>\n",
       "      <td>TIENDAS CHEDRAUI SA DE CV</td>\n",
       "      <td>46960.5</td>\n",
       "      <td>Grande</td>\n",
       "    </tr>\n",
       "    <tr>\n",
       "      <th>4</th>\n",
       "      <td>LA COMER</td>\n",
       "      <td>COMERCIAL CITY FRESKO S. DE R.L. DE C.V</td>\n",
       "      <td>Autoservicio</td>\n",
       "      <td>NaN</td>\n",
       "      <td>COMERCIAL CITY FRESKO S DE RL DE CV</td>\n",
       "      <td>14539.0</td>\n",
       "      <td>Grande</td>\n",
       "    </tr>\n",
       "    <tr>\n",
       "      <th>...</th>\n",
       "      <td>...</td>\n",
       "      <td>...</td>\n",
       "      <td>...</td>\n",
       "      <td>...</td>\n",
       "      <td>...</td>\n",
       "      <td>...</td>\n",
       "      <td>...</td>\n",
       "    </tr>\n",
       "    <tr>\n",
       "      <th>86</th>\n",
       "      <td>STEREN</td>\n",
       "      <td>ELECTRÓNICA STEREN S.A. DE C.V.</td>\n",
       "      <td>Especializada</td>\n",
       "      <td>Tienda de Electrónica</td>\n",
       "      <td>ELECTRONICA STEREN SA DE CV</td>\n",
       "      <td>114.0</td>\n",
       "      <td>Mediana</td>\n",
       "    </tr>\n",
       "    <tr>\n",
       "      <th>87</th>\n",
       "      <td>SFERA MODA JOVEN</td>\n",
       "      <td>OPERADORA SFERA JOVEN MEXICO SA DE CV</td>\n",
       "      <td>Especializada</td>\n",
       "      <td>Tienda de Ropa</td>\n",
       "      <td>OPERADORA SFERA JOVEN MEXICO SA DE CV</td>\n",
       "      <td>686.5</td>\n",
       "      <td>Grande</td>\n",
       "    </tr>\n",
       "    <tr>\n",
       "      <th>88</th>\n",
       "      <td>SUPER NATURISTA</td>\n",
       "      <td>SUPER MAYOREO NATURISTA S.A. DE C.V.</td>\n",
       "      <td>Especializada</td>\n",
       "      <td>Tienda de Alimentos Saludables</td>\n",
       "      <td>SUPER MAYOREO NATURISTA SA DE CV</td>\n",
       "      <td>217.5</td>\n",
       "      <td>Mediana</td>\n",
       "    </tr>\n",
       "    <tr>\n",
       "      <th>89</th>\n",
       "      <td>CARTERS</td>\n",
       "      <td>CARTERS BRANDS S.A. DE C.V.</td>\n",
       "      <td>Especializada</td>\n",
       "      <td>Tienda de Ropa Infantil</td>\n",
       "      <td>CARTERS BRANDS SA DE CV</td>\n",
       "      <td>364.5</td>\n",
       "      <td>Grande</td>\n",
       "    </tr>\n",
       "    <tr>\n",
       "      <th>90</th>\n",
       "      <td>LA FERRE</td>\n",
       "      <td>LA FERRE COMERCIALIZADORA S.A. DE C.V.</td>\n",
       "      <td>Especializada</td>\n",
       "      <td>Ferretería</td>\n",
       "      <td>LA FERRE COMERCIALIZADORA SA DE CV</td>\n",
       "      <td>556.5</td>\n",
       "      <td>Grande</td>\n",
       "    </tr>\n",
       "  </tbody>\n",
       "</table>\n",
       "<p>87 rows × 7 columns</p>\n",
       "</div>"
      ],
      "text/plain": [
       "              Nombre Comercial                             Razón social  \\\n",
       "0                      ALSUPER          OPERADORA FUTURAMA S.A. DE C.V.   \n",
       "1                     CASA LEY                CASA LEY S.A.P.I. DE C.V.   \n",
       "2   CENTRO COMERCIAL CRUZ AZUL  CENTRO COMERCIAL CRUZ AZUL S.A. DE C.V.   \n",
       "3                     CHEDRAUI            TIENDAS CHEDRAUI S.A. DE C.V.   \n",
       "4                     LA COMER  COMERCIAL CITY FRESKO S. DE R.L. DE C.V   \n",
       "..                         ...                                      ...   \n",
       "86                      STEREN          ELECTRÓNICA STEREN S.A. DE C.V.   \n",
       "87            SFERA MODA JOVEN    OPERADORA SFERA JOVEN MEXICO SA DE CV   \n",
       "88             SUPER NATURISTA     SUPER MAYOREO NATURISTA S.A. DE C.V.   \n",
       "89                     CARTERS              CARTERS BRANDS S.A. DE C.V.   \n",
       "90                    LA FERRE   LA FERRE COMERCIALIZADORA S.A. DE C.V.   \n",
       "\n",
       "          Formato                 Especialización  \\\n",
       "0    Autoservicio                             NaN   \n",
       "1    Autoservicio                             NaN   \n",
       "2    Autoservicio                             NaN   \n",
       "3    Autoservicio                             NaN   \n",
       "4    Autoservicio                             NaN   \n",
       "..            ...                             ...   \n",
       "86  Especializada           Tienda de Electrónica   \n",
       "87  Especializada                  Tienda de Ropa   \n",
       "88  Especializada  Tienda de Alimentos Saludables   \n",
       "89  Especializada         Tienda de Ropa Infantil   \n",
       "90  Especializada                      Ferretería   \n",
       "\n",
       "                               raz_social  total_personas   tamaño  \n",
       "0             OPERADORA FUTURAMA SA DE CV         13471.5   Grande  \n",
       "1                     CASA LEY SAPI DE CV         22667.5   Grande  \n",
       "2     CENTRO COMERCIAL CRUZ AZUL SA DE CV           527.5   Grande  \n",
       "3               TIENDAS CHEDRAUI SA DE CV         46960.5   Grande  \n",
       "4     COMERCIAL CITY FRESKO S DE RL DE CV         14539.0   Grande  \n",
       "..                                    ...             ...      ...  \n",
       "86            ELECTRONICA STEREN SA DE CV           114.0  Mediana  \n",
       "87  OPERADORA SFERA JOVEN MEXICO SA DE CV           686.5   Grande  \n",
       "88       SUPER MAYOREO NATURISTA SA DE CV           217.5  Mediana  \n",
       "89                CARTERS BRANDS SA DE CV           364.5   Grande  \n",
       "90     LA FERRE COMERCIALIZADORA SA DE CV           556.5   Grande  \n",
       "\n",
       "[87 rows x 7 columns]"
      ]
     },
     "execution_count": 11,
     "metadata": {},
     "output_type": "execute_result"
    }
   ],
   "source": [
    "merge.drop_duplicates(subset=['raz_social'], keep='first')"
   ]
  },
  {
   "cell_type": "code",
   "execution_count": 12,
   "metadata": {},
   "outputs": [
    {
     "name": "stdout",
     "output_type": "stream",
     "text": [
      "Distribution de los tamaños\n",
      "Grande     71\n",
      "Mediana    12\n",
      "Pequeña     7\n",
      "Micro       1\n",
      "Name: tamaño, dtype: int64\n",
      "\n",
      "Porcentaje que representa cada tamaño:\n",
      "Grande     78.021978\n",
      "Mediana    13.186813\n",
      "Pequeña     7.692308\n",
      "Micro       1.098901\n",
      "Name: tamaño, dtype: float64\n"
     ]
    },
    {
     "data": {
      "image/png": "[encoded data removed]",
      "text/plain": [
       "<Figure size 1000x600 with 1 Axes>"
      ]
     },
     "metadata": {},
     "output_type": "display_data"
    }
   ],
   "source": [
    "# Contamos cuantas empresas tenemos de cada tamaño\n",
    "conteo = merge['tamaño'].value_counts()\n",
    "\n",
    "print(\"Distribution de los tamaños\")\n",
    "print(conteo)\n",
    "\n",
    "# Lo calculamos como porcentaje\n",
    "size_percentages = merge['tamaño'].value_counts(normalize=True) * 100\n",
    "\n",
    "print(\"\\nPorcentaje que representa cada tamaño:\")\n",
    "print(size_percentages)\n",
    "\n",
    "# Graficamos\n",
    "\n",
    "\n",
    "plt.figure(figsize=(10, 6))\n",
    "conteo.plot(kind='bar')\n",
    "plt.title('Distribución de los tamaños de empresa')\n",
    "plt.xlabel('Tamaño')\n",
    "plt.ylabel('Número')\n",
    "plt.xticks(rotation=45)\n",
    "plt.tight_layout()\n",
    "plt.show()"
   ]
  },
  {
   "cell_type": "code",
   "execution_count": 13,
   "metadata": {},
   "outputs": [
    {
     "data": {
      "application/vnd.plotly.v1+json": {
       "config": {
        "plotlyServerURL": "https://plot.ly"
       },
       "data": [
        {
         "alignmentgroup": "True",
         "hovertemplate": "index=%{x}<br>Número=%{y}<br>text=%{text}<extra></extra>",
         "legendgroup": "",
         "marker": {
          "color": "orange",
          "pattern": {
           "shape": ""
          }
         },
         "name": "",
         "offsetgroup": "",
         "orientation": "v",
         "showlegend": false,
         "text": [
          71,
          12,
          7,
          1
         ],
         "textposition": "outside",
         "type": "bar",
         "x": [
          "Grande",
          "Mediana",
          "Pequeña",
          "Micro"
         ],
         "xaxis": "x",
         "y": [
          71,
          12,
          7,
          1
         ],
         "yaxis": "y"
        }
       ],
       "layout": {
        "bargap": 0.3,
        "barmode": "relative",
        "legend": {
         "tracegroupgap": 0
        },
        "template": {
         "data": {
          "bar": [
           {
            "error_x": {
             "color": "#2a3f5f"
            },
            "error_y": {
             "color": "#2a3f5f"
            },
            "marker": {
             "line": {
              "color": "#E5ECF6",
              "width": 0.5
             },
             "pattern": {
              "fillmode": "overlay",
              "size": 10,
              "solidity": 0.2
             }
            },
            "type": "bar"
           }
          ],
          "barpolar": [
           {
            "marker": {
             "line": {
              "color": "#E5ECF6",
              "width": 0.5
             },
             "pattern": {
              "fillmode": "overlay",
              "size": 10,
              "solidity": 0.2
             }
            },
            "type": "barpolar"
           }
          ],
          "carpet": [
           {
            "aaxis": {
             "endlinecolor": "#2a3f5f",
             "gridcolor": "white",
             "linecolor": "white",
             "minorgridcolor": "white",
             "startlinecolor": "#2a3f5f"
            },
            "baxis": {
             "endlinecolor": "#2a3f5f",
             "gridcolor": "white",
             "linecolor": "white",
             "minorgridcolor": "white",
             "startlinecolor": "#2a3f5f"
            },
            "type": "carpet"
           }
          ],
          "choropleth": [
           {
            "colorbar": {
             "outlinewidth": 0,
             "ticks": ""
            },
            "type": "choropleth"
           }
          ],
          "contour": [
           {
            "colorbar": {
             "outlinewidth": 0,
             "ticks": ""
            },
            "colorscale": [
             [
              0,
              "#0d0887"
             ],
             [
              0.1111111111111111,
              "#46039f"
             ],
             [
              0.2222222222222222,
              "#7201a8"
             ],
             [
              0.3333333333333333,
              "#9c179e"
             ],
             [
              0.4444444444444444,
              "#bd3786"
             ],
             [
              0.5555555555555556,
              "#d8576b"
             ],
             [
              0.6666666666666666,
              "#ed7953"
             ],
             [
              0.7777777777777778,
              "#fb9f3a"
             ],
             [
              0.8888888888888888,
              "#fdca26"
             ],
             [
              1,
              "#f0f921"
             ]
            ],
            "type": "contour"
           }
          ],
          "contourcarpet": [
           {
            "colorbar": {
             "outlinewidth": 0,
             "ticks": ""
            },
            "type": "contourcarpet"
           }
          ],
          "heatmap": [
           {
            "colorbar": {
             "outlinewidth": 0,
             "ticks": ""
            },
            "colorscale": [
             [
              0,
              "#0d0887"
             ],
             [
              0.1111111111111111,
              "#46039f"
             ],
             [
              0.2222222222222222,
              "#7201a8"
             ],
             [
              0.3333333333333333,
              "#9c179e"
             ],
             [
              0.4444444444444444,
              "#bd3786"
             ],
             [
              0.5555555555555556,
              "#d8576b"
             ],
             [
              0.6666666666666666,
              "#ed7953"
             ],
             [
              0.7777777777777778,
              "#fb9f3a"
             ],
             [
              0.8888888888888888,
              "#fdca26"
             ],
             [
              1,
              "#f0f921"
             ]
            ],
            "type": "heatmap"
           }
          ],
          "heatmapgl": [
           {
            "colorbar": {
             "outlinewidth": 0,
             "ticks": ""
            },
            "colorscale": [
             [
              0,
              "#0d0887"
             ],
             [
              0.1111111111111111,
              "#46039f"
             ],
             [
              0.2222222222222222,
              "#7201a8"
             ],
             [
              0.3333333333333333,
              "#9c179e"
             ],
             [
              0.4444444444444444,
              "#bd3786"
             ],
             [
              0.5555555555555556,
              "#d8576b"
             ],
             [
              0.6666666666666666,
              "#ed7953"
             ],
             [
              0.7777777777777778,
              "#fb9f3a"
             ],
             [
              0.8888888888888888,
              "#fdca26"
             ],
             [
              1,
              "#f0f921"
             ]
            ],
            "type": "heatmapgl"
           }
          ],
          "histogram": [
           {
            "marker": {
             "pattern": {
              "fillmode": "overlay",
              "size": 10,
              "solidity": 0.2
             }
            },
            "type": "histogram"
           }
          ],
          "histogram2d": [
           {
            "colorbar": {
             "outlinewidth": 0,
             "ticks": ""
            },
            "colorscale": [
             [
              0,
              "#0d0887"
             ],
             [
              0.1111111111111111,
              "#46039f"
             ],
             [
              0.2222222222222222,
              "#7201a8"
             ],
             [
              0.3333333333333333,
              "#9c179e"
             ],
             [
              0.4444444444444444,
              "#bd3786"
             ],
             [
              0.5555555555555556,
              "#d8576b"
             ],
             [
              0.6666666666666666,
              "#ed7953"
             ],
             [
              0.7777777777777778,
              "#fb9f3a"
             ],
             [
              0.8888888888888888,
              "#fdca26"
             ],
             [
              1,
              "#f0f921"
             ]
            ],
            "type": "histogram2d"
           }
          ],
          "histogram2dcontour": [
           {
            "colorbar": {
             "outlinewidth": 0,
             "ticks": ""
            },
            "colorscale": [
             [
              0,
              "#0d0887"
             ],
             [
              0.1111111111111111,
              "#46039f"
             ],
             [
              0.2222222222222222,
              "#7201a8"
             ],
             [
              0.3333333333333333,
              "#9c179e"
             ],
             [
              0.4444444444444444,
              "#bd3786"
             ],
             [
              0.5555555555555556,
              "#d8576b"
             ],
             [
              0.6666666666666666,
              "#ed7953"
             ],
             [
              0.7777777777777778,
              "#fb9f3a"
             ],
             [
              0.8888888888888888,
              "#fdca26"
             ],
             [
              1,
              "#f0f921"
             ]
            ],
            "type": "histogram2dcontour"
           }
          ],
          "mesh3d": [
           {
            "colorbar": {
             "outlinewidth": 0,
             "ticks": ""
            },
            "type": "mesh3d"
           }
          ],
          "parcoords": [
           {
            "line": {
             "colorbar": {
              "outlinewidth": 0,
              "ticks": ""
             }
            },
            "type": "parcoords"
           }
          ],
          "pie": [
           {
            "automargin": true,
            "type": "pie"
           }
          ],
          "scatter": [
           {
            "fillpattern": {
             "fillmode": "overlay",
             "size": 10,
             "solidity": 0.2
            },
            "type": "scatter"
           }
          ],
          "scatter3d": [
           {
            "line": {
             "colorbar": {
              "outlinewidth": 0,
              "ticks": ""
             }
            },
            "marker": {
             "colorbar": {
              "outlinewidth": 0,
              "ticks": ""
             }
            },
            "type": "scatter3d"
           }
          ],
          "scattercarpet": [
           {
            "marker": {
             "colorbar": {
              "outlinewidth": 0,
              "ticks": ""
             }
            },
            "type": "scattercarpet"
           }
          ],
          "scattergeo": [
           {
            "marker": {
             "colorbar": {
              "outlinewidth": 0,
              "ticks": ""
             }
            },
            "type": "scattergeo"
           }
          ],
          "scattergl": [
           {
            "marker": {
             "colorbar": {
              "outlinewidth": 0,
              "ticks": ""
             }
            },
            "type": "scattergl"
           }
          ],
          "scattermapbox": [
           {
            "marker": {
             "colorbar": {
              "outlinewidth": 0,
              "ticks": ""
             }
            },
            "type": "scattermapbox"
           }
          ],
          "scatterpolar": [
           {
            "marker": {
             "colorbar": {
              "outlinewidth": 0,
              "ticks": ""
             }
            },
            "type": "scatterpolar"
           }
          ],
          "scatterpolargl": [
           {
            "marker": {
             "colorbar": {
              "outlinewidth": 0,
              "ticks": ""
             }
            },
            "type": "scatterpolargl"
           }
          ],
          "scatterternary": [
           {
            "marker": {
             "colorbar": {
              "outlinewidth": 0,
              "ticks": ""
             }
            },
            "type": "scatterternary"
           }
          ],
          "surface": [
           {
            "colorbar": {
             "outlinewidth": 0,
             "ticks": ""
            },
            "colorscale": [
             [
              0,
              "#0d0887"
             ],
             [
              0.1111111111111111,
              "#46039f"
             ],
             [
              0.2222222222222222,
              "#7201a8"
             ],
             [
              0.3333333333333333,
              "#9c179e"
             ],
             [
              0.4444444444444444,
              "#bd3786"
             ],
             [
              0.5555555555555556,
              "#d8576b"
             ],
             [
              0.6666666666666666,
              "#ed7953"
             ],
             [
              0.7777777777777778,
              "#fb9f3a"
             ],
             [
              0.8888888888888888,
              "#fdca26"
             ],
             [
              1,
              "#f0f921"
             ]
            ],
            "type": "surface"
           }
          ],
          "table": [
           {
            "cells": {
             "fill": {
              "color": "#EBF0F8"
             },
             "line": {
              "color": "white"
             }
            },
            "header": {
             "fill": {
              "color": "#C8D4E3"
             },
             "line": {
              "color": "white"
             }
            },
            "type": "table"
           }
          ]
         },
         "layout": {
          "annotationdefaults": {
           "arrowcolor": "#2a3f5f",
           "arrowhead": 0,
           "arrowwidth": 1
          },
          "autotypenumbers": "strict",
          "coloraxis": {
           "colorbar": {
            "outlinewidth": 0,
            "ticks": ""
           }
          },
          "colorscale": {
           "diverging": [
            [
             0,
             "#8e0152"
            ],
            [
             0.1,
             "#c51b7d"
            ],
            [
             0.2,
             "#de77ae"
            ],
            [
             0.3,
             "#f1b6da"
            ],
            [
             0.4,
             "#fde0ef"
            ],
            [
             0.5,
             "#f7f7f7"
            ],
            [
             0.6,
             "#e6f5d0"
            ],
            [
             0.7,
             "#b8e186"
            ],
            [
             0.8,
             "#7fbc41"
            ],
            [
             0.9,
             "#4d9221"
            ],
            [
             1,
             "#276419"
            ]
           ],
           "sequential": [
            [
             0,
             "#0d0887"
            ],
            [
             0.1111111111111111,
             "#46039f"
            ],
            [
             0.2222222222222222,
             "#7201a8"
            ],
            [
             0.3333333333333333,
             "#9c179e"
            ],
            [
             0.4444444444444444,
             "#bd3786"
            ],
            [
             0.5555555555555556,
             "#d8576b"
            ],
            [
             0.6666666666666666,
             "#ed7953"
            ],
            [
             0.7777777777777778,
             "#fb9f3a"
            ],
            [
             0.8888888888888888,
             "#fdca26"
            ],
            [
             1,
             "#f0f921"
            ]
           ],
           "sequentialminus": [
            [
             0,
             "#0d0887"
            ],
            [
             0.1111111111111111,
             "#46039f"
            ],
            [
             0.2222222222222222,
             "#7201a8"
            ],
            [
             0.3333333333333333,
             "#9c179e"
            ],
            [
             0.4444444444444444,
             "#bd3786"
            ],
            [
             0.5555555555555556,
             "#d8576b"
            ],
            [
             0.6666666666666666,
             "#ed7953"
            ],
            [
             0.7777777777777778,
             "#fb9f3a"
            ],
            [
             0.8888888888888888,
             "#fdca26"
            ],
            [
             1,
             "#f0f921"
            ]
           ]
          },
          "colorway": [
           "#636efa",
           "#EF553B",
           "#00cc96",
           "#ab63fa",
           "#FFA15A",
           "#19d3f3",
           "#FF6692",
           "#B6E880",
           "#FF97FF",
           "#FECB52"
          ],
          "font": {
           "color": "#2a3f5f"
          },
          "geo": {
           "bgcolor": "white",
           "lakecolor": "white",
           "landcolor": "#E5ECF6",
           "showlakes": true,
           "showland": true,
           "subunitcolor": "white"
          },
          "hoverlabel": {
           "align": "left"
          },
          "hovermode": "closest",
          "mapbox": {
           "style": "light"
          },
          "paper_bgcolor": "white",
          "plot_bgcolor": "#E5ECF6",
          "polar": {
           "angularaxis": {
            "gridcolor": "white",
            "linecolor": "white",
            "ticks": ""
           },
           "bgcolor": "#E5ECF6",
           "radialaxis": {
            "gridcolor": "white",
            "linecolor": "white",
            "ticks": ""
           }
          },
          "scene": {
           "xaxis": {
            "backgroundcolor": "#E5ECF6",
            "gridcolor": "white",
            "gridwidth": 2,
            "linecolor": "white",
            "showbackground": true,
            "ticks": "",
            "zerolinecolor": "white"
           },
           "yaxis": {
            "backgroundcolor": "#E5ECF6",
            "gridcolor": "white",
            "gridwidth": 2,
            "linecolor": "white",
            "showbackground": true,
            "ticks": "",
            "zerolinecolor": "white"
           },
           "zaxis": {
            "backgroundcolor": "#E5ECF6",
            "gridcolor": "white",
            "gridwidth": 2,
            "linecolor": "white",
            "showbackground": true,
            "ticks": "",
            "zerolinecolor": "white"
           }
          },
          "shapedefaults": {
           "line": {
            "color": "#2a3f5f"
           }
          },
          "ternary": {
           "aaxis": {
            "gridcolor": "white",
            "linecolor": "white",
            "ticks": ""
           },
           "baxis": {
            "gridcolor": "white",
            "linecolor": "white",
            "ticks": ""
           },
           "bgcolor": "#E5ECF6",
           "caxis": {
            "gridcolor": "white",
            "linecolor": "white",
            "ticks": ""
           }
          },
          "title": {
           "x": 0.05
          },
          "xaxis": {
           "automargin": true,
           "gridcolor": "white",
           "linecolor": "white",
           "ticks": "",
           "title": {
            "standoff": 15
           },
           "zerolinecolor": "white",
           "zerolinewidth": 2
          },
          "yaxis": {
           "automargin": true,
           "gridcolor": "white",
           "linecolor": "white",
           "ticks": "",
           "title": {
            "standoff": 15
           },
           "zerolinecolor": "white",
           "zerolinewidth": 2
          }
         }
        },
        "title": {
         "font": {
          "size": 20
         },
         "text": "Distribución de los tamaños de empresa"
        },
        "uniformtext": {
         "minsize": 12,
         "mode": "hide"
        },
        "xaxis": {
         "anchor": "y",
         "domain": [
          0,
          1
         ],
         "tickangle": -45,
         "title": {
          "font": {
           "size": 16
          },
          "text": "index"
         }
        },
        "yaxis": {
         "anchor": "x",
         "domain": [
          0,
          1
         ],
         "range": [
          0,
          80
         ],
         "title": {
          "font": {
           "size": 16
          },
          "text": "Número"
         }
        }
       }
      }
     },
     "metadata": {},
     "output_type": "display_data"
    }
   ],
   "source": [
    "# Hacemos la grafica con plotly\n",
    "fig = px.bar(conteo, \n",
    "             x=conteo.index, \n",
    "             y=conteo.values, \n",
    "             labels={'x': 'Tamaño', 'y': 'Número'}, \n",
    "             title='Distribución de los tamaños de empresa',\n",
    "             text=conteo.values)\n",
    "\n",
    "fig.update_traces(textposition='outside', marker_color='orange')\n",
    "\n",
    "fig.update_yaxes(range=[0, 80])\n",
    "\n",
    "fig.update_layout(title_font_size=20, \n",
    "                  xaxis_tickangle=-45,\n",
    "                  xaxis_title_font_size=16, \n",
    "                  yaxis_title_font_size=16, \n",
    "                  uniformtext_minsize=12, \n",
    "                  uniformtext_mode='hide',\n",
    "                  bargap=0.3)\n",
    "\n",
    "fig.show()\n"
   ]
  },
  {
   "cell_type": "code",
   "execution_count": null,
   "metadata": {},
   "outputs": [],
   "source": []
  }
 ],
 "metadata": {
  "kernelspec": {
   "display_name": "pandas",
   "language": "python",
   "name": "python3"
  },
  "language_info": {
   "codemirror_mode": {
    "name": "ipython",
    "version": 3
   },
   "file_extension": ".py",
   "mimetype": "text/x-python",
   "name": "python",
   "nbconvert_exporter": "python",
   "pygments_lexer": "ipython3",
   "version": "3.10.9"
  }
 },
 "nbformat": 4,
 "nbformat_minor": 2
}
