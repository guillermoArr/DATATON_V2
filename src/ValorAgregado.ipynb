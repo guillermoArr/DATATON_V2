{
 "cells": [
  {
   "cell_type": "code",
   "execution_count": 1,
   "metadata": {},
   "outputs": [],
   "source": [
    "# importamos librerias necesarias\n",
    "import pandas as pd\n",
    "import numpy as np"
   ]
  },
  {
   "cell_type": "code",
   "execution_count": 3,
   "metadata": {},
   "outputs": [],
   "source": [
    "# leemos los datos de la EAC\n",
    "eac = pd.read_csv(\"../data/tr_eac_comercio_al_por_menor_2013_2021.csv\", usecols=[\"CODIGO_ACTIVIDAD\", \"ANIO\", \"M100A\", \"M310A\", \"M971A\",\n",
    "\"M200A\", \"M500A\", \"M999A\"])\n",
    "\n",
    "eac_2022 = pd.read_csv(\"../data/tr_eac_comercio_al_por_menor_2021_2022.csv\", usecols=[\"CODIGO_ACTIVIDAD\", \"ANIO\", \"M100A\", \"M971A\",\n",
    "\"M200A\", \"M500A\", \"M999A\"])\n",
    "\n",
    "eac = pd.concat([eac, eac_2022], ignore_index=True).fillna(0)\n",
    "eac[\"M310A\"] = eac[\"M310A\"].astype(\"int64\")"
   ]
  },
  {
   "cell_type": "code",
   "execution_count": 4,
   "metadata": {},
   "outputs": [
    {
     "data": {
      "text/html": [
       "<div>\n",
       "<style scoped>\n",
       "    .dataframe tbody tr th:only-of-type {\n",
       "        vertical-align: middle;\n",
       "    }\n",
       "\n",
       "    .dataframe tbody tr th {\n",
       "        vertical-align: top;\n",
       "    }\n",
       "\n",
       "    .dataframe thead th {\n",
       "        text-align: right;\n",
       "    }\n",
       "</style>\n",
       "<table border=\"1\" class=\"dataframe\">\n",
       "  <thead>\n",
       "    <tr style=\"text-align: right;\">\n",
       "      <th></th>\n",
       "      <th>CODIGO_ACTIVIDAD</th>\n",
       "      <th>ANIO</th>\n",
       "      <th>M100A</th>\n",
       "      <th>M310A</th>\n",
       "      <th>M971A</th>\n",
       "      <th>M200A</th>\n",
       "      <th>M500A</th>\n",
       "      <th>M999A</th>\n",
       "    </tr>\n",
       "  </thead>\n",
       "  <tbody>\n",
       "    <tr>\n",
       "      <th>0</th>\n",
       "      <td>46</td>\n",
       "      <td>2013</td>\n",
       "      <td>4834404708</td>\n",
       "      <td>1572786</td>\n",
       "      <td>155020457</td>\n",
       "      <td>13240140</td>\n",
       "      <td>6824255</td>\n",
       "      <td>29573435</td>\n",
       "    </tr>\n",
       "    <tr>\n",
       "      <th>1</th>\n",
       "      <td>461</td>\n",
       "      <td>2013</td>\n",
       "      <td>865475807</td>\n",
       "      <td>340456</td>\n",
       "      <td>2988274</td>\n",
       "      <td>238869</td>\n",
       "      <td>985099</td>\n",
       "      <td>1241286</td>\n",
       "    </tr>\n",
       "    <tr>\n",
       "      <th>2</th>\n",
       "      <td>4611</td>\n",
       "      <td>2013</td>\n",
       "      <td>819161921</td>\n",
       "      <td>309850</td>\n",
       "      <td>2920010</td>\n",
       "      <td>234035</td>\n",
       "      <td>965384</td>\n",
       "      <td>948126</td>\n",
       "    </tr>\n",
       "    <tr>\n",
       "      <th>3</th>\n",
       "      <td>4612</td>\n",
       "      <td>2013</td>\n",
       "      <td>46313886</td>\n",
       "      <td>30606</td>\n",
       "      <td>68264</td>\n",
       "      <td>4834</td>\n",
       "      <td>19715</td>\n",
       "      <td>293160</td>\n",
       "    </tr>\n",
       "    <tr>\n",
       "      <th>4</th>\n",
       "      <td>462</td>\n",
       "      <td>2013</td>\n",
       "      <td>1087797323</td>\n",
       "      <td>520173</td>\n",
       "      <td>1699730</td>\n",
       "      <td>4624706</td>\n",
       "      <td>3752297</td>\n",
       "      <td>15096024</td>\n",
       "    </tr>\n",
       "    <tr>\n",
       "      <th>...</th>\n",
       "      <td>...</td>\n",
       "      <td>...</td>\n",
       "      <td>...</td>\n",
       "      <td>...</td>\n",
       "      <td>...</td>\n",
       "      <td>...</td>\n",
       "      <td>...</td>\n",
       "      <td>...</td>\n",
       "    </tr>\n",
       "    <tr>\n",
       "      <th>315</th>\n",
       "      <td>4682</td>\n",
       "      <td>2022</td>\n",
       "      <td>330505889</td>\n",
       "      <td>0</td>\n",
       "      <td>218054</td>\n",
       "      <td>3078063</td>\n",
       "      <td>208995</td>\n",
       "      <td>787504</td>\n",
       "    </tr>\n",
       "    <tr>\n",
       "      <th>316</th>\n",
       "      <td>4683</td>\n",
       "      <td>2022</td>\n",
       "      <td>70732355</td>\n",
       "      <td>0</td>\n",
       "      <td>79734</td>\n",
       "      <td>1008842</td>\n",
       "      <td>66427</td>\n",
       "      <td>68919</td>\n",
       "    </tr>\n",
       "    <tr>\n",
       "      <th>317</th>\n",
       "      <td>4684</td>\n",
       "      <td>2022</td>\n",
       "      <td>1529003818</td>\n",
       "      <td>0</td>\n",
       "      <td>48563</td>\n",
       "      <td>2462790</td>\n",
       "      <td>1195338</td>\n",
       "      <td>3846598</td>\n",
       "    </tr>\n",
       "    <tr>\n",
       "      <th>318</th>\n",
       "      <td>469</td>\n",
       "      <td>2022</td>\n",
       "      <td>46056216</td>\n",
       "      <td>0</td>\n",
       "      <td>5261755</td>\n",
       "      <td>4253174</td>\n",
       "      <td>0</td>\n",
       "      <td>1824839</td>\n",
       "    </tr>\n",
       "    <tr>\n",
       "      <th>319</th>\n",
       "      <td>4691</td>\n",
       "      <td>2022</td>\n",
       "      <td>46056216</td>\n",
       "      <td>0</td>\n",
       "      <td>5261755</td>\n",
       "      <td>4253174</td>\n",
       "      <td>0</td>\n",
       "      <td>1824839</td>\n",
       "    </tr>\n",
       "  </tbody>\n",
       "</table>\n",
       "<p>320 rows × 8 columns</p>\n",
       "</div>"
      ],
      "text/plain": [
       "     CODIGO_ACTIVIDAD  ANIO       M100A    M310A      M971A     M200A  \\\n",
       "0                  46  2013  4834404708  1572786  155020457  13240140   \n",
       "1                 461  2013   865475807   340456    2988274    238869   \n",
       "2                4611  2013   819161921   309850    2920010    234035   \n",
       "3                4612  2013    46313886    30606      68264      4834   \n",
       "4                 462  2013  1087797323   520173    1699730   4624706   \n",
       "..                ...   ...         ...      ...        ...       ...   \n",
       "315              4682  2022   330505889        0     218054   3078063   \n",
       "316              4683  2022    70732355        0      79734   1008842   \n",
       "317              4684  2022  1529003818        0      48563   2462790   \n",
       "318               469  2022    46056216        0    5261755   4253174   \n",
       "319              4691  2022    46056216        0    5261755   4253174   \n",
       "\n",
       "       M500A     M999A  \n",
       "0    6824255  29573435  \n",
       "1     985099   1241286  \n",
       "2     965384    948126  \n",
       "3      19715    293160  \n",
       "4    3752297  15096024  \n",
       "..       ...       ...  \n",
       "315   208995    787504  \n",
       "316    66427     68919  \n",
       "317  1195338   3846598  \n",
       "318        0   1824839  \n",
       "319        0   1824839  \n",
       "\n",
       "[320 rows x 8 columns]"
      ]
     },
     "execution_count": 4,
     "metadata": {},
     "output_type": "execute_result"
    }
   ],
   "source": [
    "eac"
   ]
  },
  {
   "cell_type": "code",
   "execution_count": 5,
   "metadata": {},
   "outputs": [],
   "source": [
    "# Definimos los ingresos por categoría\n",
    "eac['ingresos'] = eac[['M100A', 'M310A', 'M971A', 'M200A', 'M500A', 'M999A']].sum(axis=1)"
   ]
  },
  {
   "cell_type": "code",
   "execution_count": 6,
   "metadata": {},
   "outputs": [
    {
     "data": {
      "text/html": [
       "<div>\n",
       "<style scoped>\n",
       "    .dataframe tbody tr th:only-of-type {\n",
       "        vertical-align: middle;\n",
       "    }\n",
       "\n",
       "    .dataframe tbody tr th {\n",
       "        vertical-align: top;\n",
       "    }\n",
       "\n",
       "    .dataframe thead th {\n",
       "        text-align: right;\n",
       "    }\n",
       "</style>\n",
       "<table border=\"1\" class=\"dataframe\">\n",
       "  <thead>\n",
       "    <tr style=\"text-align: right;\">\n",
       "      <th></th>\n",
       "      <th>CODIGO_ACTIVIDAD</th>\n",
       "      <th>ANIO</th>\n",
       "      <th>M100A</th>\n",
       "      <th>M310A</th>\n",
       "      <th>M971A</th>\n",
       "      <th>M200A</th>\n",
       "      <th>M500A</th>\n",
       "      <th>M999A</th>\n",
       "      <th>ingresos</th>\n",
       "    </tr>\n",
       "  </thead>\n",
       "  <tbody>\n",
       "    <tr>\n",
       "      <th>0</th>\n",
       "      <td>46</td>\n",
       "      <td>2013</td>\n",
       "      <td>4834404708</td>\n",
       "      <td>1572786</td>\n",
       "      <td>155020457</td>\n",
       "      <td>13240140</td>\n",
       "      <td>6824255</td>\n",
       "      <td>29573435</td>\n",
       "      <td>5040635781</td>\n",
       "    </tr>\n",
       "    <tr>\n",
       "      <th>1</th>\n",
       "      <td>461</td>\n",
       "      <td>2013</td>\n",
       "      <td>865475807</td>\n",
       "      <td>340456</td>\n",
       "      <td>2988274</td>\n",
       "      <td>238869</td>\n",
       "      <td>985099</td>\n",
       "      <td>1241286</td>\n",
       "      <td>871269791</td>\n",
       "    </tr>\n",
       "    <tr>\n",
       "      <th>2</th>\n",
       "      <td>4611</td>\n",
       "      <td>2013</td>\n",
       "      <td>819161921</td>\n",
       "      <td>309850</td>\n",
       "      <td>2920010</td>\n",
       "      <td>234035</td>\n",
       "      <td>965384</td>\n",
       "      <td>948126</td>\n",
       "      <td>824539326</td>\n",
       "    </tr>\n",
       "    <tr>\n",
       "      <th>3</th>\n",
       "      <td>4612</td>\n",
       "      <td>2013</td>\n",
       "      <td>46313886</td>\n",
       "      <td>30606</td>\n",
       "      <td>68264</td>\n",
       "      <td>4834</td>\n",
       "      <td>19715</td>\n",
       "      <td>293160</td>\n",
       "      <td>46730465</td>\n",
       "    </tr>\n",
       "    <tr>\n",
       "      <th>4</th>\n",
       "      <td>462</td>\n",
       "      <td>2013</td>\n",
       "      <td>1087797323</td>\n",
       "      <td>520173</td>\n",
       "      <td>1699730</td>\n",
       "      <td>4624706</td>\n",
       "      <td>3752297</td>\n",
       "      <td>15096024</td>\n",
       "      <td>1113490253</td>\n",
       "    </tr>\n",
       "  </tbody>\n",
       "</table>\n",
       "</div>"
      ],
      "text/plain": [
       "   CODIGO_ACTIVIDAD  ANIO       M100A    M310A      M971A     M200A    M500A  \\\n",
       "0                46  2013  4834404708  1572786  155020457  13240140  6824255   \n",
       "1               461  2013   865475807   340456    2988274    238869   985099   \n",
       "2              4611  2013   819161921   309850    2920010    234035   965384   \n",
       "3              4612  2013    46313886    30606      68264      4834    19715   \n",
       "4               462  2013  1087797323   520173    1699730   4624706  3752297   \n",
       "\n",
       "      M999A    ingresos  \n",
       "0  29573435  5040635781  \n",
       "1   1241286   871269791  \n",
       "2    948126   824539326  \n",
       "3    293160    46730465  \n",
       "4  15096024  1113490253  "
      ]
     },
     "execution_count": 6,
     "metadata": {},
     "output_type": "execute_result"
    }
   ],
   "source": [
    "eac.head()"
   ]
  },
  {
   "cell_type": "code",
   "execution_count": 13,
   "metadata": {},
   "outputs": [],
   "source": [
    "# sacamos los ingresos totales anuales\n",
    "eac_totales = eac.groupby(['ANIO'])['ingresos'].sum().reset_index()"
   ]
  },
  {
   "cell_type": "code",
   "execution_count": 14,
   "metadata": {},
   "outputs": [
    {
     "data": {
      "text/html": [
       "<div>\n",
       "<style scoped>\n",
       "    .dataframe tbody tr th:only-of-type {\n",
       "        vertical-align: middle;\n",
       "    }\n",
       "\n",
       "    .dataframe tbody tr th {\n",
       "        vertical-align: top;\n",
       "    }\n",
       "\n",
       "    .dataframe thead th {\n",
       "        text-align: right;\n",
       "    }\n",
       "</style>\n",
       "<table border=\"1\" class=\"dataframe\">\n",
       "  <thead>\n",
       "    <tr style=\"text-align: right;\">\n",
       "      <th></th>\n",
       "      <th>ANIO</th>\n",
       "      <th>ingresos</th>\n",
       "    </tr>\n",
       "  </thead>\n",
       "  <tbody>\n",
       "    <tr>\n",
       "      <th>0</th>\n",
       "      <td>2013</td>\n",
       "      <td>15121907343</td>\n",
       "    </tr>\n",
       "    <tr>\n",
       "      <th>1</th>\n",
       "      <td>2014</td>\n",
       "      <td>15515291085</td>\n",
       "    </tr>\n",
       "    <tr>\n",
       "      <th>2</th>\n",
       "      <td>2015</td>\n",
       "      <td>16164883533</td>\n",
       "    </tr>\n",
       "    <tr>\n",
       "      <th>3</th>\n",
       "      <td>2016</td>\n",
       "      <td>17089669110</td>\n",
       "    </tr>\n",
       "    <tr>\n",
       "      <th>4</th>\n",
       "      <td>2017</td>\n",
       "      <td>18452245812</td>\n",
       "    </tr>\n",
       "    <tr>\n",
       "      <th>5</th>\n",
       "      <td>2018</td>\n",
       "      <td>19668107310</td>\n",
       "    </tr>\n",
       "    <tr>\n",
       "      <th>6</th>\n",
       "      <td>2019</td>\n",
       "      <td>22355266467</td>\n",
       "    </tr>\n",
       "    <tr>\n",
       "      <th>7</th>\n",
       "      <td>2020</td>\n",
       "      <td>20920932453</td>\n",
       "    </tr>\n",
       "    <tr>\n",
       "      <th>8</th>\n",
       "      <td>2021</td>\n",
       "      <td>24250325880</td>\n",
       "    </tr>\n",
       "    <tr>\n",
       "      <th>9</th>\n",
       "      <td>2022</td>\n",
       "      <td>26068243707</td>\n",
       "    </tr>\n",
       "  </tbody>\n",
       "</table>\n",
       "</div>"
      ],
      "text/plain": [
       "   ANIO     ingresos\n",
       "0  2013  15121907343\n",
       "1  2014  15515291085\n",
       "2  2015  16164883533\n",
       "3  2016  17089669110\n",
       "4  2017  18452245812\n",
       "5  2018  19668107310\n",
       "6  2019  22355266467\n",
       "7  2020  20920932453\n",
       "8  2021  24250325880\n",
       "9  2022  26068243707"
      ]
     },
     "execution_count": 14,
     "metadata": {},
     "output_type": "execute_result"
    }
   ],
   "source": [
    "eac_totales"
   ]
  },
  {
   "cell_type": "code",
   "execution_count": 15,
   "metadata": {},
   "outputs": [],
   "source": [
    "# Filtramos para las actividades que nos interesan\n",
    "eac_filtrado = eac[eac['CODIGO_ACTIVIDAD'].isin([4621, 4622, 463, 4641, 4659, 4661, 4682, 4612, 4652, 4651, 466, 4671, 4653])]"
   ]
  },
  {
   "cell_type": "code",
   "execution_count": 16,
   "metadata": {},
   "outputs": [
    {
     "name": "stderr",
     "output_type": "stream",
     "text": [
      "/var/folders/_n/15dj3g9532b7lqmq3dcy_1jw0000gp/T/ipykernel_95752/961873237.py:7: SettingWithCopyWarning: \n",
      "A value is trying to be set on a copy of a slice from a DataFrame.\n",
      "Try using .loc[row_indexer,col_indexer] = value instead\n",
      "\n",
      "See the caveats in the documentation: https://pandas.pydata.org/pandas-docs/stable/user_guide/indexing.html#returning-a-view-versus-a-copy\n",
      "  eac_filtrado['tipo_antad'] = eac_filtrado['CODIGO_ACTIVIDAD'].map(codigo_mapping).fillna('especializada')\n"
     ]
    }
   ],
   "source": [
    "# Mapeamos las categorías de la EAC a las categorías de la ANTAD\n",
    "codigo_mapping = {\n",
    "    4622: 'departamental',\n",
    "    4621: 'autoservicio'\n",
    "}\n",
    "eac_filtrado\n",
    "eac_filtrado['tipo_antad'] = eac_filtrado['CODIGO_ACTIVIDAD'].map(codigo_mapping).fillna('especializada')"
   ]
  },
  {
   "cell_type": "code",
   "execution_count": 11,
   "metadata": {},
   "outputs": [],
   "source": [
    "# Sacamos el ingreso por cada tipo de tienda ANTAD\n",
    "eac_antad = eac_filtrado.groupby(['ANIO', 'tipo_antad'])['ingresos'].sum().reset_index()"
   ]
  },
  {
   "cell_type": "code",
   "execution_count": 12,
   "metadata": {},
   "outputs": [
    {
     "data": {
      "text/html": [
       "<div>\n",
       "<style scoped>\n",
       "    .dataframe tbody tr th:only-of-type {\n",
       "        vertical-align: middle;\n",
       "    }\n",
       "\n",
       "    .dataframe tbody tr th {\n",
       "        vertical-align: top;\n",
       "    }\n",
       "\n",
       "    .dataframe thead th {\n",
       "        text-align: right;\n",
       "    }\n",
       "</style>\n",
       "<table border=\"1\" class=\"dataframe\">\n",
       "  <thead>\n",
       "    <tr style=\"text-align: right;\">\n",
       "      <th></th>\n",
       "      <th>ANIO</th>\n",
       "      <th>tipo_antad</th>\n",
       "      <th>ingresos</th>\n",
       "    </tr>\n",
       "  </thead>\n",
       "  <tbody>\n",
       "    <tr>\n",
       "      <th>0</th>\n",
       "      <td>2013</td>\n",
       "      <td>autoservicio</td>\n",
       "      <td>889863079</td>\n",
       "    </tr>\n",
       "    <tr>\n",
       "      <th>1</th>\n",
       "      <td>2013</td>\n",
       "      <td>departamental</td>\n",
       "      <td>223627174</td>\n",
       "    </tr>\n",
       "    <tr>\n",
       "      <th>2</th>\n",
       "      <td>2013</td>\n",
       "      <td>especializada</td>\n",
       "      <td>2168761481</td>\n",
       "    </tr>\n",
       "    <tr>\n",
       "      <th>3</th>\n",
       "      <td>2014</td>\n",
       "      <td>autoservicio</td>\n",
       "      <td>943465864</td>\n",
       "    </tr>\n",
       "    <tr>\n",
       "      <th>4</th>\n",
       "      <td>2014</td>\n",
       "      <td>departamental</td>\n",
       "      <td>242787312</td>\n",
       "    </tr>\n",
       "    <tr>\n",
       "      <th>5</th>\n",
       "      <td>2014</td>\n",
       "      <td>especializada</td>\n",
       "      <td>2301474533</td>\n",
       "    </tr>\n",
       "    <tr>\n",
       "      <th>6</th>\n",
       "      <td>2015</td>\n",
       "      <td>autoservicio</td>\n",
       "      <td>1029486387</td>\n",
       "    </tr>\n",
       "    <tr>\n",
       "      <th>7</th>\n",
       "      <td>2015</td>\n",
       "      <td>departamental</td>\n",
       "      <td>270920695</td>\n",
       "    </tr>\n",
       "    <tr>\n",
       "      <th>8</th>\n",
       "      <td>2015</td>\n",
       "      <td>especializada</td>\n",
       "      <td>2309270990</td>\n",
       "    </tr>\n",
       "    <tr>\n",
       "      <th>9</th>\n",
       "      <td>2016</td>\n",
       "      <td>autoservicio</td>\n",
       "      <td>1112828502</td>\n",
       "    </tr>\n",
       "    <tr>\n",
       "      <th>10</th>\n",
       "      <td>2016</td>\n",
       "      <td>departamental</td>\n",
       "      <td>334414698</td>\n",
       "    </tr>\n",
       "    <tr>\n",
       "      <th>11</th>\n",
       "      <td>2016</td>\n",
       "      <td>especializada</td>\n",
       "      <td>2347487349</td>\n",
       "    </tr>\n",
       "    <tr>\n",
       "      <th>12</th>\n",
       "      <td>2017</td>\n",
       "      <td>autoservicio</td>\n",
       "      <td>1190686981</td>\n",
       "    </tr>\n",
       "    <tr>\n",
       "      <th>13</th>\n",
       "      <td>2017</td>\n",
       "      <td>departamental</td>\n",
       "      <td>356139154</td>\n",
       "    </tr>\n",
       "    <tr>\n",
       "      <th>14</th>\n",
       "      <td>2017</td>\n",
       "      <td>especializada</td>\n",
       "      <td>2455223813</td>\n",
       "    </tr>\n",
       "    <tr>\n",
       "      <th>15</th>\n",
       "      <td>2018</td>\n",
       "      <td>autoservicio</td>\n",
       "      <td>1278345478</td>\n",
       "    </tr>\n",
       "    <tr>\n",
       "      <th>16</th>\n",
       "      <td>2018</td>\n",
       "      <td>departamental</td>\n",
       "      <td>360600753</td>\n",
       "    </tr>\n",
       "    <tr>\n",
       "      <th>17</th>\n",
       "      <td>2018</td>\n",
       "      <td>especializada</td>\n",
       "      <td>2603861408</td>\n",
       "    </tr>\n",
       "    <tr>\n",
       "      <th>18</th>\n",
       "      <td>2019</td>\n",
       "      <td>autoservicio</td>\n",
       "      <td>1398334147</td>\n",
       "    </tr>\n",
       "    <tr>\n",
       "      <th>19</th>\n",
       "      <td>2019</td>\n",
       "      <td>departamental</td>\n",
       "      <td>400123441</td>\n",
       "    </tr>\n",
       "    <tr>\n",
       "      <th>20</th>\n",
       "      <td>2019</td>\n",
       "      <td>especializada</td>\n",
       "      <td>2779750345</td>\n",
       "    </tr>\n",
       "    <tr>\n",
       "      <th>21</th>\n",
       "      <td>2020</td>\n",
       "      <td>autoservicio</td>\n",
       "      <td>1508173131</td>\n",
       "    </tr>\n",
       "    <tr>\n",
       "      <th>22</th>\n",
       "      <td>2020</td>\n",
       "      <td>departamental</td>\n",
       "      <td>312549202</td>\n",
       "    </tr>\n",
       "    <tr>\n",
       "      <th>23</th>\n",
       "      <td>2020</td>\n",
       "      <td>especializada</td>\n",
       "      <td>2622989292</td>\n",
       "    </tr>\n",
       "    <tr>\n",
       "      <th>24</th>\n",
       "      <td>2021</td>\n",
       "      <td>autoservicio</td>\n",
       "      <td>1568215832</td>\n",
       "    </tr>\n",
       "    <tr>\n",
       "      <th>25</th>\n",
       "      <td>2021</td>\n",
       "      <td>departamental</td>\n",
       "      <td>428384247</td>\n",
       "    </tr>\n",
       "    <tr>\n",
       "      <th>26</th>\n",
       "      <td>2021</td>\n",
       "      <td>especializada</td>\n",
       "      <td>3029277799</td>\n",
       "    </tr>\n",
       "    <tr>\n",
       "      <th>27</th>\n",
       "      <td>2022</td>\n",
       "      <td>autoservicio</td>\n",
       "      <td>1757442753</td>\n",
       "    </tr>\n",
       "    <tr>\n",
       "      <th>28</th>\n",
       "      <td>2022</td>\n",
       "      <td>departamental</td>\n",
       "      <td>512157376</td>\n",
       "    </tr>\n",
       "    <tr>\n",
       "      <th>29</th>\n",
       "      <td>2022</td>\n",
       "      <td>especializada</td>\n",
       "      <td>3095042142</td>\n",
       "    </tr>\n",
       "  </tbody>\n",
       "</table>\n",
       "</div>"
      ],
      "text/plain": [
       "    ANIO     tipo_antad    ingresos\n",
       "0   2013   autoservicio   889863079\n",
       "1   2013  departamental   223627174\n",
       "2   2013  especializada  2168761481\n",
       "3   2014   autoservicio   943465864\n",
       "4   2014  departamental   242787312\n",
       "5   2014  especializada  2301474533\n",
       "6   2015   autoservicio  1029486387\n",
       "7   2015  departamental   270920695\n",
       "8   2015  especializada  2309270990\n",
       "9   2016   autoservicio  1112828502\n",
       "10  2016  departamental   334414698\n",
       "11  2016  especializada  2347487349\n",
       "12  2017   autoservicio  1190686981\n",
       "13  2017  departamental   356139154\n",
       "14  2017  especializada  2455223813\n",
       "15  2018   autoservicio  1278345478\n",
       "16  2018  departamental   360600753\n",
       "17  2018  especializada  2603861408\n",
       "18  2019   autoservicio  1398334147\n",
       "19  2019  departamental   400123441\n",
       "20  2019  especializada  2779750345\n",
       "21  2020   autoservicio  1508173131\n",
       "22  2020  departamental   312549202\n",
       "23  2020  especializada  2622989292\n",
       "24  2021   autoservicio  1568215832\n",
       "25  2021  departamental   428384247\n",
       "26  2021  especializada  3029277799\n",
       "27  2022   autoservicio  1757442753\n",
       "28  2022  departamental   512157376\n",
       "29  2022  especializada  3095042142"
      ]
     },
     "execution_count": 12,
     "metadata": {},
     "output_type": "execute_result"
    }
   ],
   "source": [
    "eac_antad"
   ]
  },
  {
   "cell_type": "code",
   "execution_count": 17,
   "metadata": {},
   "outputs": [],
   "source": [
    "# Sacamos el porcentaje de participacion de cada tipo de tienda del total\n",
    "eac_antad['participacion'] = eac_antad.apply(\n",
    "    lambda row: (row['ingresos'] / eac_totales[eac_totales['ANIO'] == row['ANIO']]['ingresos'].iloc[0]), \n",
    "    axis=1\n",
    ")"
   ]
  },
  {
   "cell_type": "code",
   "execution_count": 18,
   "metadata": {},
   "outputs": [
    {
     "data": {
      "text/html": [
       "<div>\n",
       "<style scoped>\n",
       "    .dataframe tbody tr th:only-of-type {\n",
       "        vertical-align: middle;\n",
       "    }\n",
       "\n",
       "    .dataframe tbody tr th {\n",
       "        vertical-align: top;\n",
       "    }\n",
       "\n",
       "    .dataframe thead th {\n",
       "        text-align: right;\n",
       "    }\n",
       "</style>\n",
       "<table border=\"1\" class=\"dataframe\">\n",
       "  <thead>\n",
       "    <tr style=\"text-align: right;\">\n",
       "      <th></th>\n",
       "      <th>ANIO</th>\n",
       "      <th>tipo_antad</th>\n",
       "      <th>ingresos</th>\n",
       "      <th>participacion</th>\n",
       "    </tr>\n",
       "  </thead>\n",
       "  <tbody>\n",
       "    <tr>\n",
       "      <th>0</th>\n",
       "      <td>2013</td>\n",
       "      <td>autoservicio</td>\n",
       "      <td>889863079</td>\n",
       "      <td>0.058846</td>\n",
       "    </tr>\n",
       "    <tr>\n",
       "      <th>1</th>\n",
       "      <td>2013</td>\n",
       "      <td>departamental</td>\n",
       "      <td>223627174</td>\n",
       "      <td>0.014788</td>\n",
       "    </tr>\n",
       "    <tr>\n",
       "      <th>2</th>\n",
       "      <td>2013</td>\n",
       "      <td>especializada</td>\n",
       "      <td>2168761481</td>\n",
       "      <td>0.143419</td>\n",
       "    </tr>\n",
       "    <tr>\n",
       "      <th>3</th>\n",
       "      <td>2014</td>\n",
       "      <td>autoservicio</td>\n",
       "      <td>943465864</td>\n",
       "      <td>0.060809</td>\n",
       "    </tr>\n",
       "    <tr>\n",
       "      <th>4</th>\n",
       "      <td>2014</td>\n",
       "      <td>departamental</td>\n",
       "      <td>242787312</td>\n",
       "      <td>0.015648</td>\n",
       "    </tr>\n",
       "    <tr>\n",
       "      <th>5</th>\n",
       "      <td>2014</td>\n",
       "      <td>especializada</td>\n",
       "      <td>2301474533</td>\n",
       "      <td>0.148336</td>\n",
       "    </tr>\n",
       "    <tr>\n",
       "      <th>6</th>\n",
       "      <td>2015</td>\n",
       "      <td>autoservicio</td>\n",
       "      <td>1029486387</td>\n",
       "      <td>0.063687</td>\n",
       "    </tr>\n",
       "    <tr>\n",
       "      <th>7</th>\n",
       "      <td>2015</td>\n",
       "      <td>departamental</td>\n",
       "      <td>270920695</td>\n",
       "      <td>0.016760</td>\n",
       "    </tr>\n",
       "    <tr>\n",
       "      <th>8</th>\n",
       "      <td>2015</td>\n",
       "      <td>especializada</td>\n",
       "      <td>2309270990</td>\n",
       "      <td>0.142857</td>\n",
       "    </tr>\n",
       "    <tr>\n",
       "      <th>9</th>\n",
       "      <td>2016</td>\n",
       "      <td>autoservicio</td>\n",
       "      <td>1112828502</td>\n",
       "      <td>0.065117</td>\n",
       "    </tr>\n",
       "    <tr>\n",
       "      <th>10</th>\n",
       "      <td>2016</td>\n",
       "      <td>departamental</td>\n",
       "      <td>334414698</td>\n",
       "      <td>0.019568</td>\n",
       "    </tr>\n",
       "    <tr>\n",
       "      <th>11</th>\n",
       "      <td>2016</td>\n",
       "      <td>especializada</td>\n",
       "      <td>2347487349</td>\n",
       "      <td>0.137363</td>\n",
       "    </tr>\n",
       "    <tr>\n",
       "      <th>12</th>\n",
       "      <td>2017</td>\n",
       "      <td>autoservicio</td>\n",
       "      <td>1190686981</td>\n",
       "      <td>0.064528</td>\n",
       "    </tr>\n",
       "    <tr>\n",
       "      <th>13</th>\n",
       "      <td>2017</td>\n",
       "      <td>departamental</td>\n",
       "      <td>356139154</td>\n",
       "      <td>0.019301</td>\n",
       "    </tr>\n",
       "    <tr>\n",
       "      <th>14</th>\n",
       "      <td>2017</td>\n",
       "      <td>especializada</td>\n",
       "      <td>2455223813</td>\n",
       "      <td>0.133058</td>\n",
       "    </tr>\n",
       "    <tr>\n",
       "      <th>15</th>\n",
       "      <td>2018</td>\n",
       "      <td>autoservicio</td>\n",
       "      <td>1278345478</td>\n",
       "      <td>0.064996</td>\n",
       "    </tr>\n",
       "    <tr>\n",
       "      <th>16</th>\n",
       "      <td>2018</td>\n",
       "      <td>departamental</td>\n",
       "      <td>360600753</td>\n",
       "      <td>0.018334</td>\n",
       "    </tr>\n",
       "    <tr>\n",
       "      <th>17</th>\n",
       "      <td>2018</td>\n",
       "      <td>especializada</td>\n",
       "      <td>2603861408</td>\n",
       "      <td>0.132390</td>\n",
       "    </tr>\n",
       "    <tr>\n",
       "      <th>18</th>\n",
       "      <td>2019</td>\n",
       "      <td>autoservicio</td>\n",
       "      <td>1398334147</td>\n",
       "      <td>0.062551</td>\n",
       "    </tr>\n",
       "    <tr>\n",
       "      <th>19</th>\n",
       "      <td>2019</td>\n",
       "      <td>departamental</td>\n",
       "      <td>400123441</td>\n",
       "      <td>0.017898</td>\n",
       "    </tr>\n",
       "    <tr>\n",
       "      <th>20</th>\n",
       "      <td>2019</td>\n",
       "      <td>especializada</td>\n",
       "      <td>2779750345</td>\n",
       "      <td>0.124344</td>\n",
       "    </tr>\n",
       "    <tr>\n",
       "      <th>21</th>\n",
       "      <td>2020</td>\n",
       "      <td>autoservicio</td>\n",
       "      <td>1508173131</td>\n",
       "      <td>0.072089</td>\n",
       "    </tr>\n",
       "    <tr>\n",
       "      <th>22</th>\n",
       "      <td>2020</td>\n",
       "      <td>departamental</td>\n",
       "      <td>312549202</td>\n",
       "      <td>0.014940</td>\n",
       "    </tr>\n",
       "    <tr>\n",
       "      <th>23</th>\n",
       "      <td>2020</td>\n",
       "      <td>especializada</td>\n",
       "      <td>2622989292</td>\n",
       "      <td>0.125376</td>\n",
       "    </tr>\n",
       "    <tr>\n",
       "      <th>24</th>\n",
       "      <td>2021</td>\n",
       "      <td>autoservicio</td>\n",
       "      <td>1568215832</td>\n",
       "      <td>0.064668</td>\n",
       "    </tr>\n",
       "    <tr>\n",
       "      <th>25</th>\n",
       "      <td>2021</td>\n",
       "      <td>departamental</td>\n",
       "      <td>428384247</td>\n",
       "      <td>0.017665</td>\n",
       "    </tr>\n",
       "    <tr>\n",
       "      <th>26</th>\n",
       "      <td>2021</td>\n",
       "      <td>especializada</td>\n",
       "      <td>3029277799</td>\n",
       "      <td>0.124917</td>\n",
       "    </tr>\n",
       "    <tr>\n",
       "      <th>27</th>\n",
       "      <td>2022</td>\n",
       "      <td>autoservicio</td>\n",
       "      <td>1757442753</td>\n",
       "      <td>0.067417</td>\n",
       "    </tr>\n",
       "    <tr>\n",
       "      <th>28</th>\n",
       "      <td>2022</td>\n",
       "      <td>departamental</td>\n",
       "      <td>512157376</td>\n",
       "      <td>0.019647</td>\n",
       "    </tr>\n",
       "    <tr>\n",
       "      <th>29</th>\n",
       "      <td>2022</td>\n",
       "      <td>especializada</td>\n",
       "      <td>3095042142</td>\n",
       "      <td>0.118728</td>\n",
       "    </tr>\n",
       "  </tbody>\n",
       "</table>\n",
       "</div>"
      ],
      "text/plain": [
       "    ANIO     tipo_antad    ingresos  participacion\n",
       "0   2013   autoservicio   889863079       0.058846\n",
       "1   2013  departamental   223627174       0.014788\n",
       "2   2013  especializada  2168761481       0.143419\n",
       "3   2014   autoservicio   943465864       0.060809\n",
       "4   2014  departamental   242787312       0.015648\n",
       "5   2014  especializada  2301474533       0.148336\n",
       "6   2015   autoservicio  1029486387       0.063687\n",
       "7   2015  departamental   270920695       0.016760\n",
       "8   2015  especializada  2309270990       0.142857\n",
       "9   2016   autoservicio  1112828502       0.065117\n",
       "10  2016  departamental   334414698       0.019568\n",
       "11  2016  especializada  2347487349       0.137363\n",
       "12  2017   autoservicio  1190686981       0.064528\n",
       "13  2017  departamental   356139154       0.019301\n",
       "14  2017  especializada  2455223813       0.133058\n",
       "15  2018   autoservicio  1278345478       0.064996\n",
       "16  2018  departamental   360600753       0.018334\n",
       "17  2018  especializada  2603861408       0.132390\n",
       "18  2019   autoservicio  1398334147       0.062551\n",
       "19  2019  departamental   400123441       0.017898\n",
       "20  2019  especializada  2779750345       0.124344\n",
       "21  2020   autoservicio  1508173131       0.072089\n",
       "22  2020  departamental   312549202       0.014940\n",
       "23  2020  especializada  2622989292       0.125376\n",
       "24  2021   autoservicio  1568215832       0.064668\n",
       "25  2021  departamental   428384247       0.017665\n",
       "26  2021  especializada  3029277799       0.124917\n",
       "27  2022   autoservicio  1757442753       0.067417\n",
       "28  2022  departamental   512157376       0.019647\n",
       "29  2022  especializada  3095042142       0.118728"
      ]
     },
     "execution_count": 18,
     "metadata": {},
     "output_type": "execute_result"
    }
   ],
   "source": [
    "eac_antad"
   ]
  },
  {
   "cell_type": "code",
   "execution_count": 21,
   "metadata": {},
   "outputs": [],
   "source": [
    "# Leemos el excel de valor agregado al comercio electronico \n",
    "valor_agregado = pd.read_excel(\"../data/VABCOEL_3.xlsx\", skiprows=4, nrows=6)"
   ]
  },
  {
   "cell_type": "code",
   "execution_count": 22,
   "metadata": {},
   "outputs": [
    {
     "data": {
      "text/html": [
       "<div>\n",
       "<style scoped>\n",
       "    .dataframe tbody tr th:only-of-type {\n",
       "        vertical-align: middle;\n",
       "    }\n",
       "\n",
       "    .dataframe tbody tr th {\n",
       "        vertical-align: top;\n",
       "    }\n",
       "\n",
       "    .dataframe thead th {\n",
       "        text-align: right;\n",
       "    }\n",
       "</style>\n",
       "<table border=\"1\" class=\"dataframe\">\n",
       "  <thead>\n",
       "    <tr style=\"text-align: right;\">\n",
       "      <th></th>\n",
       "      <th>Concepto</th>\n",
       "      <th>2013</th>\n",
       "      <th>2014</th>\n",
       "      <th>2015</th>\n",
       "      <th>2016</th>\n",
       "      <th>2017</th>\n",
       "      <th>2018</th>\n",
       "      <th>2019</th>\n",
       "      <th>2020</th>\n",
       "      <th>2021R</th>\n",
       "      <th>2022P</th>\n",
       "    </tr>\n",
       "  </thead>\n",
       "  <tbody>\n",
       "    <tr>\n",
       "      <th>0</th>\n",
       "      <td>Millones de pesos a precios de 2018</td>\n",
       "      <td>NaN</td>\n",
       "      <td>NaN</td>\n",
       "      <td>NaN</td>\n",
       "      <td>NaN</td>\n",
       "      <td>NaN</td>\n",
       "      <td>NaN</td>\n",
       "      <td>NaN</td>\n",
       "      <td>NaN</td>\n",
       "      <td>NaN</td>\n",
       "      <td>NaN</td>\n",
       "    </tr>\n",
       "    <tr>\n",
       "      <th>1</th>\n",
       "      <td>Valor agregado bruto</td>\n",
       "      <td>NaN</td>\n",
       "      <td>NaN</td>\n",
       "      <td>NaN</td>\n",
       "      <td>NaN</td>\n",
       "      <td>NaN</td>\n",
       "      <td>NaN</td>\n",
       "      <td>NaN</td>\n",
       "      <td>NaN</td>\n",
       "      <td>NaN</td>\n",
       "      <td>NaN</td>\n",
       "    </tr>\n",
       "    <tr>\n",
       "      <th>2</th>\n",
       "      <td>Total</td>\n",
       "      <td>656056.252</td>\n",
       "      <td>668374.405</td>\n",
       "      <td>776955.053</td>\n",
       "      <td>863448.187</td>\n",
       "      <td>942764.771</td>\n",
       "      <td>1004368.757</td>\n",
       "      <td>1025423.135</td>\n",
       "      <td>1064261.695</td>\n",
       "      <td>1176919.328</td>\n",
       "      <td>1610984.741</td>\n",
       "    </tr>\n",
       "    <tr>\n",
       "      <th>3</th>\n",
       "      <td>Comercio al por mayor</td>\n",
       "      <td>146567.676</td>\n",
       "      <td>141049.624</td>\n",
       "      <td>184849.208</td>\n",
       "      <td>225100.204</td>\n",
       "      <td>244874.067</td>\n",
       "      <td>254101.158</td>\n",
       "      <td>226970.120</td>\n",
       "      <td>276443.481</td>\n",
       "      <td>280796.606</td>\n",
       "      <td>360634.978</td>\n",
       "    </tr>\n",
       "    <tr>\n",
       "      <th>4</th>\n",
       "      <td>Comercio al por menor</td>\n",
       "      <td>67925.163</td>\n",
       "      <td>62970.162</td>\n",
       "      <td>89483.787</td>\n",
       "      <td>107195.119</td>\n",
       "      <td>126718.741</td>\n",
       "      <td>136018.250</td>\n",
       "      <td>309188.707</td>\n",
       "      <td>379362.524</td>\n",
       "      <td>332874.178</td>\n",
       "      <td>425434.981</td>\n",
       "    </tr>\n",
       "    <tr>\n",
       "      <th>5</th>\n",
       "      <td>______aOtros servicios</td>\n",
       "      <td>441563.413</td>\n",
       "      <td>464354.619</td>\n",
       "      <td>502622.058</td>\n",
       "      <td>531152.864</td>\n",
       "      <td>571171.963</td>\n",
       "      <td>614249.349</td>\n",
       "      <td>489264.308</td>\n",
       "      <td>408455.690</td>\n",
       "      <td>563248.544</td>\n",
       "      <td>824914.782</td>\n",
       "    </tr>\n",
       "  </tbody>\n",
       "</table>\n",
       "</div>"
      ],
      "text/plain": [
       "                                   Concepto        2013        2014  \\\n",
       "0       Millones de pesos a precios de 2018         NaN         NaN   \n",
       "1                      Valor agregado bruto         NaN         NaN   \n",
       "2                                     Total  656056.252  668374.405   \n",
       "3                     Comercio al por mayor  146567.676  141049.624   \n",
       "4                     Comercio al por menor   67925.163   62970.162   \n",
       "5                    ______aOtros servicios  441563.413  464354.619   \n",
       "\n",
       "         2015        2016        2017         2018         2019         2020  \\\n",
       "0         NaN         NaN         NaN          NaN          NaN          NaN   \n",
       "1         NaN         NaN         NaN          NaN          NaN          NaN   \n",
       "2  776955.053  863448.187  942764.771  1004368.757  1025423.135  1064261.695   \n",
       "3  184849.208  225100.204  244874.067   254101.158   226970.120   276443.481   \n",
       "4   89483.787  107195.119  126718.741   136018.250   309188.707   379362.524   \n",
       "5  502622.058  531152.864  571171.963   614249.349   489264.308   408455.690   \n",
       "\n",
       "         2021R        2022P  \n",
       "0          NaN          NaN  \n",
       "1          NaN          NaN  \n",
       "2  1176919.328  1610984.741  \n",
       "3   280796.606   360634.978  \n",
       "4   332874.178   425434.981  \n",
       "5   563248.544   824914.782  "
      ]
     },
     "execution_count": 22,
     "metadata": {},
     "output_type": "execute_result"
    }
   ],
   "source": [
    "valor_agregado"
   ]
  },
  {
   "cell_type": "code",
   "execution_count": 23,
   "metadata": {},
   "outputs": [],
   "source": [
    "valor_agregado.Concepto = valor_agregado.Concepto.apply(str.lstrip)"
   ]
  },
  {
   "cell_type": "code",
   "execution_count": 24,
   "metadata": {},
   "outputs": [],
   "source": [
    "va_com_menor = valor_agregado[valor_agregado[\"Concepto\"]==\"Comercio al por menor\"]"
   ]
  },
  {
   "cell_type": "code",
   "execution_count": 25,
   "metadata": {},
   "outputs": [
    {
     "data": {
      "text/html": [
       "<div>\n",
       "<style scoped>\n",
       "    .dataframe tbody tr th:only-of-type {\n",
       "        vertical-align: middle;\n",
       "    }\n",
       "\n",
       "    .dataframe tbody tr th {\n",
       "        vertical-align: top;\n",
       "    }\n",
       "\n",
       "    .dataframe thead th {\n",
       "        text-align: right;\n",
       "    }\n",
       "</style>\n",
       "<table border=\"1\" class=\"dataframe\">\n",
       "  <thead>\n",
       "    <tr style=\"text-align: right;\">\n",
       "      <th></th>\n",
       "      <th>Concepto</th>\n",
       "      <th>2013</th>\n",
       "      <th>2014</th>\n",
       "      <th>2015</th>\n",
       "      <th>2016</th>\n",
       "      <th>2017</th>\n",
       "      <th>2018</th>\n",
       "      <th>2019</th>\n",
       "      <th>2020</th>\n",
       "      <th>2021R</th>\n",
       "      <th>2022P</th>\n",
       "    </tr>\n",
       "  </thead>\n",
       "  <tbody>\n",
       "    <tr>\n",
       "      <th>4</th>\n",
       "      <td>Comercio al por menor</td>\n",
       "      <td>67925.163</td>\n",
       "      <td>62970.162</td>\n",
       "      <td>89483.787</td>\n",
       "      <td>107195.119</td>\n",
       "      <td>126718.741</td>\n",
       "      <td>136018.25</td>\n",
       "      <td>309188.707</td>\n",
       "      <td>379362.524</td>\n",
       "      <td>332874.178</td>\n",
       "      <td>425434.981</td>\n",
       "    </tr>\n",
       "  </tbody>\n",
       "</table>\n",
       "</div>"
      ],
      "text/plain": [
       "                Concepto       2013       2014       2015        2016  \\\n",
       "4  Comercio al por menor  67925.163  62970.162  89483.787  107195.119   \n",
       "\n",
       "         2017       2018        2019        2020       2021R       2022P  \n",
       "4  126718.741  136018.25  309188.707  379362.524  332874.178  425434.981  "
      ]
     },
     "execution_count": 25,
     "metadata": {},
     "output_type": "execute_result"
    }
   ],
   "source": [
    "va_com_menor"
   ]
  },
  {
   "cell_type": "code",
   "execution_count": 26,
   "metadata": {},
   "outputs": [],
   "source": [
    "va_com_menor = va_com_menor.melt(\n",
    "    id_vars=['Concepto'],  \n",
    "    var_name='ANIO',       \n",
    "    value_name='valor_agregado' \n",
    ")\n",
    "\n",
    "va_com_menor['ANIO'] = va_com_menor['ANIO'].str.replace('R', '').str.replace('P', '')"
   ]
  },
  {
   "cell_type": "code",
   "execution_count": 27,
   "metadata": {},
   "outputs": [],
   "source": [
    "va_com_menor[\"ANIO\"] = va_com_menor[\"ANIO\"].astype(\"int64\")"
   ]
  },
  {
   "cell_type": "code",
   "execution_count": 28,
   "metadata": {},
   "outputs": [
    {
     "data": {
      "text/plain": [
       "Concepto           object\n",
       "ANIO                int64\n",
       "valor_agregado    float64\n",
       "dtype: object"
      ]
     },
     "execution_count": 28,
     "metadata": {},
     "output_type": "execute_result"
    }
   ],
   "source": [
    "va_com_menor.dtypes"
   ]
  },
  {
   "cell_type": "code",
   "execution_count": 29,
   "metadata": {},
   "outputs": [],
   "source": [
    "# Agregamos el valor agregado del comercio electronico para cada año y lo multiplicamos por la participación\n",
    "eac_antad['valor_agregado'] = eac_antad.apply(\n",
    "    lambda row: (row['participacion'] * va_com_menor[va_com_menor['ANIO'] == row['ANIO']]['valor_agregado'].iloc[0]), \n",
    "    axis=1\n",
    ")"
   ]
  },
  {
   "cell_type": "code",
   "execution_count": 30,
   "metadata": {},
   "outputs": [
    {
     "data": {
      "text/html": [
       "<div>\n",
       "<style scoped>\n",
       "    .dataframe tbody tr th:only-of-type {\n",
       "        vertical-align: middle;\n",
       "    }\n",
       "\n",
       "    .dataframe tbody tr th {\n",
       "        vertical-align: top;\n",
       "    }\n",
       "\n",
       "    .dataframe thead th {\n",
       "        text-align: right;\n",
       "    }\n",
       "</style>\n",
       "<table border=\"1\" class=\"dataframe\">\n",
       "  <thead>\n",
       "    <tr style=\"text-align: right;\">\n",
       "      <th></th>\n",
       "      <th>ANIO</th>\n",
       "      <th>tipo_antad</th>\n",
       "      <th>ingresos</th>\n",
       "      <th>participacion</th>\n",
       "      <th>valor_agregado</th>\n",
       "    </tr>\n",
       "  </thead>\n",
       "  <tbody>\n",
       "    <tr>\n",
       "      <th>0</th>\n",
       "      <td>2013</td>\n",
       "      <td>autoservicio</td>\n",
       "      <td>889863079</td>\n",
       "      <td>0.058846</td>\n",
       "      <td>3997.121085</td>\n",
       "    </tr>\n",
       "    <tr>\n",
       "      <th>1</th>\n",
       "      <td>2013</td>\n",
       "      <td>departamental</td>\n",
       "      <td>223627174</td>\n",
       "      <td>0.014788</td>\n",
       "      <td>1004.497111</td>\n",
       "    </tr>\n",
       "    <tr>\n",
       "      <th>2</th>\n",
       "      <td>2013</td>\n",
       "      <td>especializada</td>\n",
       "      <td>2168761481</td>\n",
       "      <td>0.143419</td>\n",
       "      <td>9741.725945</td>\n",
       "    </tr>\n",
       "    <tr>\n",
       "      <th>3</th>\n",
       "      <td>2014</td>\n",
       "      <td>autoservicio</td>\n",
       "      <td>943465864</td>\n",
       "      <td>0.060809</td>\n",
       "      <td>3829.138491</td>\n",
       "    </tr>\n",
       "    <tr>\n",
       "      <th>4</th>\n",
       "      <td>2014</td>\n",
       "      <td>departamental</td>\n",
       "      <td>242787312</td>\n",
       "      <td>0.015648</td>\n",
       "      <td>985.373480</td>\n",
       "    </tr>\n",
       "    <tr>\n",
       "      <th>5</th>\n",
       "      <td>2014</td>\n",
       "      <td>especializada</td>\n",
       "      <td>2301474533</td>\n",
       "      <td>0.148336</td>\n",
       "      <td>9340.735110</td>\n",
       "    </tr>\n",
       "    <tr>\n",
       "      <th>6</th>\n",
       "      <td>2015</td>\n",
       "      <td>autoservicio</td>\n",
       "      <td>1029486387</td>\n",
       "      <td>0.063687</td>\n",
       "      <td>5698.917681</td>\n",
       "    </tr>\n",
       "    <tr>\n",
       "      <th>7</th>\n",
       "      <td>2015</td>\n",
       "      <td>departamental</td>\n",
       "      <td>270920695</td>\n",
       "      <td>0.016760</td>\n",
       "      <td>1499.733030</td>\n",
       "    </tr>\n",
       "    <tr>\n",
       "      <th>8</th>\n",
       "      <td>2015</td>\n",
       "      <td>especializada</td>\n",
       "      <td>2309270990</td>\n",
       "      <td>0.142857</td>\n",
       "      <td>12783.408737</td>\n",
       "    </tr>\n",
       "    <tr>\n",
       "      <th>9</th>\n",
       "      <td>2016</td>\n",
       "      <td>autoservicio</td>\n",
       "      <td>1112828502</td>\n",
       "      <td>0.065117</td>\n",
       "      <td>6980.227817</td>\n",
       "    </tr>\n",
       "    <tr>\n",
       "      <th>10</th>\n",
       "      <td>2016</td>\n",
       "      <td>departamental</td>\n",
       "      <td>334414698</td>\n",
       "      <td>0.019568</td>\n",
       "      <td>2097.619510</td>\n",
       "    </tr>\n",
       "    <tr>\n",
       "      <th>11</th>\n",
       "      <td>2016</td>\n",
       "      <td>especializada</td>\n",
       "      <td>2347487349</td>\n",
       "      <td>0.137363</td>\n",
       "      <td>14724.637681</td>\n",
       "    </tr>\n",
       "    <tr>\n",
       "      <th>12</th>\n",
       "      <td>2017</td>\n",
       "      <td>autoservicio</td>\n",
       "      <td>1190686981</td>\n",
       "      <td>0.064528</td>\n",
       "      <td>8176.910101</td>\n",
       "    </tr>\n",
       "    <tr>\n",
       "      <th>13</th>\n",
       "      <td>2017</td>\n",
       "      <td>departamental</td>\n",
       "      <td>356139154</td>\n",
       "      <td>0.019301</td>\n",
       "      <td>2445.745937</td>\n",
       "    </tr>\n",
       "    <tr>\n",
       "      <th>14</th>\n",
       "      <td>2017</td>\n",
       "      <td>especializada</td>\n",
       "      <td>2455223813</td>\n",
       "      <td>0.133058</td>\n",
       "      <td>16860.975820</td>\n",
       "    </tr>\n",
       "    <tr>\n",
       "      <th>15</th>\n",
       "      <td>2018</td>\n",
       "      <td>autoservicio</td>\n",
       "      <td>1278345478</td>\n",
       "      <td>0.064996</td>\n",
       "      <td>8840.622642</td>\n",
       "    </tr>\n",
       "    <tr>\n",
       "      <th>16</th>\n",
       "      <td>2018</td>\n",
       "      <td>departamental</td>\n",
       "      <td>360600753</td>\n",
       "      <td>0.018334</td>\n",
       "      <td>2493.797832</td>\n",
       "    </tr>\n",
       "    <tr>\n",
       "      <th>17</th>\n",
       "      <td>2018</td>\n",
       "      <td>especializada</td>\n",
       "      <td>2603861408</td>\n",
       "      <td>0.132390</td>\n",
       "      <td>18007.460829</td>\n",
       "    </tr>\n",
       "    <tr>\n",
       "      <th>18</th>\n",
       "      <td>2019</td>\n",
       "      <td>autoservicio</td>\n",
       "      <td>1398334147</td>\n",
       "      <td>0.062551</td>\n",
       "      <td>19339.922765</td>\n",
       "    </tr>\n",
       "    <tr>\n",
       "      <th>19</th>\n",
       "      <td>2019</td>\n",
       "      <td>departamental</td>\n",
       "      <td>400123441</td>\n",
       "      <td>0.017898</td>\n",
       "      <td>5533.982319</td>\n",
       "    </tr>\n",
       "    <tr>\n",
       "      <th>20</th>\n",
       "      <td>2019</td>\n",
       "      <td>especializada</td>\n",
       "      <td>2779750345</td>\n",
       "      <td>0.124344</td>\n",
       "      <td>38445.858663</td>\n",
       "    </tr>\n",
       "    <tr>\n",
       "      <th>21</th>\n",
       "      <td>2020</td>\n",
       "      <td>autoservicio</td>\n",
       "      <td>1508173131</td>\n",
       "      <td>0.072089</td>\n",
       "      <td>27347.938095</td>\n",
       "    </tr>\n",
       "    <tr>\n",
       "      <th>22</th>\n",
       "      <td>2020</td>\n",
       "      <td>departamental</td>\n",
       "      <td>312549202</td>\n",
       "      <td>0.014940</td>\n",
       "      <td>5667.503320</td>\n",
       "    </tr>\n",
       "    <tr>\n",
       "      <th>23</th>\n",
       "      <td>2020</td>\n",
       "      <td>especializada</td>\n",
       "      <td>2622989292</td>\n",
       "      <td>0.125376</td>\n",
       "      <td>47563.073036</td>\n",
       "    </tr>\n",
       "    <tr>\n",
       "      <th>24</th>\n",
       "      <td>2021</td>\n",
       "      <td>autoservicio</td>\n",
       "      <td>1568215832</td>\n",
       "      <td>0.064668</td>\n",
       "      <td>21526.249115</td>\n",
       "    </tr>\n",
       "    <tr>\n",
       "      <th>25</th>\n",
       "      <td>2021</td>\n",
       "      <td>departamental</td>\n",
       "      <td>428384247</td>\n",
       "      <td>0.017665</td>\n",
       "      <td>5880.253106</td>\n",
       "    </tr>\n",
       "    <tr>\n",
       "      <th>26</th>\n",
       "      <td>2021</td>\n",
       "      <td>especializada</td>\n",
       "      <td>3029277799</td>\n",
       "      <td>0.124917</td>\n",
       "      <td>41581.641511</td>\n",
       "    </tr>\n",
       "    <tr>\n",
       "      <th>27</th>\n",
       "      <td>2022</td>\n",
       "      <td>autoservicio</td>\n",
       "      <td>1757442753</td>\n",
       "      <td>0.067417</td>\n",
       "      <td>28681.549576</td>\n",
       "    </tr>\n",
       "    <tr>\n",
       "      <th>28</th>\n",
       "      <td>2022</td>\n",
       "      <td>departamental</td>\n",
       "      <td>512157376</td>\n",
       "      <td>0.019647</td>\n",
       "      <td>8358.432811</td>\n",
       "    </tr>\n",
       "    <tr>\n",
       "      <th>29</th>\n",
       "      <td>2022</td>\n",
       "      <td>especializada</td>\n",
       "      <td>3095042142</td>\n",
       "      <td>0.118728</td>\n",
       "      <td>50511.235420</td>\n",
       "    </tr>\n",
       "  </tbody>\n",
       "</table>\n",
       "</div>"
      ],
      "text/plain": [
       "    ANIO     tipo_antad    ingresos  participacion  valor_agregado\n",
       "0   2013   autoservicio   889863079       0.058846     3997.121085\n",
       "1   2013  departamental   223627174       0.014788     1004.497111\n",
       "2   2013  especializada  2168761481       0.143419     9741.725945\n",
       "3   2014   autoservicio   943465864       0.060809     3829.138491\n",
       "4   2014  departamental   242787312       0.015648      985.373480\n",
       "5   2014  especializada  2301474533       0.148336     9340.735110\n",
       "6   2015   autoservicio  1029486387       0.063687     5698.917681\n",
       "7   2015  departamental   270920695       0.016760     1499.733030\n",
       "8   2015  especializada  2309270990       0.142857    12783.408737\n",
       "9   2016   autoservicio  1112828502       0.065117     6980.227817\n",
       "10  2016  departamental   334414698       0.019568     2097.619510\n",
       "11  2016  especializada  2347487349       0.137363    14724.637681\n",
       "12  2017   autoservicio  1190686981       0.064528     8176.910101\n",
       "13  2017  departamental   356139154       0.019301     2445.745937\n",
       "14  2017  especializada  2455223813       0.133058    16860.975820\n",
       "15  2018   autoservicio  1278345478       0.064996     8840.622642\n",
       "16  2018  departamental   360600753       0.018334     2493.797832\n",
       "17  2018  especializada  2603861408       0.132390    18007.460829\n",
       "18  2019   autoservicio  1398334147       0.062551    19339.922765\n",
       "19  2019  departamental   400123441       0.017898     5533.982319\n",
       "20  2019  especializada  2779750345       0.124344    38445.858663\n",
       "21  2020   autoservicio  1508173131       0.072089    27347.938095\n",
       "22  2020  departamental   312549202       0.014940     5667.503320\n",
       "23  2020  especializada  2622989292       0.125376    47563.073036\n",
       "24  2021   autoservicio  1568215832       0.064668    21526.249115\n",
       "25  2021  departamental   428384247       0.017665     5880.253106\n",
       "26  2021  especializada  3029277799       0.124917    41581.641511\n",
       "27  2022   autoservicio  1757442753       0.067417    28681.549576\n",
       "28  2022  departamental   512157376       0.019647     8358.432811\n",
       "29  2022  especializada  3095042142       0.118728    50511.235420"
      ]
     },
     "execution_count": 30,
     "metadata": {},
     "output_type": "execute_result"
    }
   ],
   "source": [
    "eac_antad"
   ]
  },
  {
   "cell_type": "code",
   "execution_count": 32,
   "metadata": {},
   "outputs": [
    {
     "data": {
      "application/vnd.plotly.v1+json": {
       "config": {
        "plotlyServerURL": "https://plot.ly"
       },
       "data": [
        {
         "hovertemplate": "tipo_antad=autoservicio<br>ANIO=%{x}<br>valor_agregado=%{y}<extra></extra>",
         "legendgroup": "autoservicio",
         "line": {
          "color": "#636efa",
          "dash": "solid"
         },
         "marker": {
          "symbol": "circle"
         },
         "mode": "lines+markers",
         "name": "autoservicio",
         "orientation": "v",
         "showlegend": true,
         "type": "scatter",
         "x": [
          2013,
          2014,
          2015,
          2016,
          2017,
          2018,
          2019,
          2020,
          2021,
          2022
         ],
         "xaxis": "x",
         "y": [
          3997.1210851742667,
          3829.1384913162888,
          5698.917680764188,
          6980.227816621648,
          8176.9101005194725,
          8840.622642147538,
          19339.922765094096,
          27347.93809456131,
          21526.24911461957,
          28681.54957559998
         ],
         "yaxis": "y"
        },
        {
         "hovertemplate": "tipo_antad=departamental<br>ANIO=%{x}<br>valor_agregado=%{y}<extra></extra>",
         "legendgroup": "departamental",
         "line": {
          "color": "#EF553B",
          "dash": "solid"
         },
         "marker": {
          "symbol": "circle"
         },
         "mode": "lines+markers",
         "name": "departamental",
         "orientation": "v",
         "showlegend": true,
         "type": "scatter",
         "x": [
          2013,
          2014,
          2015,
          2016,
          2017,
          2018,
          2019,
          2020,
          2021,
          2022
         ],
         "xaxis": "x",
         "y": [
          1004.4971114183451,
          985.373479906229,
          1499.7330302925334,
          2097.6195101684484,
          2445.7459365914237,
          2493.797832128172,
          5533.982318922577,
          5667.503320479548,
          5880.25310644914,
          8358.432811070461
         ],
         "yaxis": "y"
        },
        {
         "hovertemplate": "tipo_antad=especializada<br>ANIO=%{x}<br>valor_agregado=%{y}<extra></extra>",
         "legendgroup": "especializada",
         "line": {
          "color": "#00cc96",
          "dash": "solid"
         },
         "marker": {
          "symbol": "circle"
         },
         "mode": "lines+markers",
         "name": "especializada",
         "orientation": "v",
         "showlegend": true,
         "type": "scatter",
         "x": [
          2013,
          2014,
          2015,
          2016,
          2017,
          2018,
          2019,
          2020,
          2021,
          2022
         ],
         "xaxis": "x",
         "y": [
          9741.72594525508,
          9340.735110151776,
          12783.40873737733,
          14724.63768065604,
          16860.975819769737,
          18007.46082865947,
          38445.858662524435,
          47563.07303575294,
          41581.64151135829,
          50511.23542022092
         ],
         "yaxis": "y"
        }
       ],
       "layout": {
        "legend": {
         "title": {
          "text": "Tipo de tienda"
         },
         "tracegroupgap": 0
        },
        "template": {
         "data": {
          "bar": [
           {
            "error_x": {
             "color": "#2a3f5f"
            },
            "error_y": {
             "color": "#2a3f5f"
            },
            "marker": {
             "line": {
              "color": "#E5ECF6",
              "width": 0.5
             },
             "pattern": {
              "fillmode": "overlay",
              "size": 10,
              "solidity": 0.2
             }
            },
            "type": "bar"
           }
          ],
          "barpolar": [
           {
            "marker": {
             "line": {
              "color": "#E5ECF6",
              "width": 0.5
             },
             "pattern": {
              "fillmode": "overlay",
              "size": 10,
              "solidity": 0.2
             }
            },
            "type": "barpolar"
           }
          ],
          "carpet": [
           {
            "aaxis": {
             "endlinecolor": "#2a3f5f",
             "gridcolor": "white",
             "linecolor": "white",
             "minorgridcolor": "white",
             "startlinecolor": "#2a3f5f"
            },
            "baxis": {
             "endlinecolor": "#2a3f5f",
             "gridcolor": "white",
             "linecolor": "white",
             "minorgridcolor": "white",
             "startlinecolor": "#2a3f5f"
            },
            "type": "carpet"
           }
          ],
          "choropleth": [
           {
            "colorbar": {
             "outlinewidth": 0,
             "ticks": ""
            },
            "type": "choropleth"
           }
          ],
          "contour": [
           {
            "colorbar": {
             "outlinewidth": 0,
             "ticks": ""
            },
            "colorscale": [
             [
              0,
              "#0d0887"
             ],
             [
              0.1111111111111111,
              "#46039f"
             ],
             [
              0.2222222222222222,
              "#7201a8"
             ],
             [
              0.3333333333333333,
              "#9c179e"
             ],
             [
              0.4444444444444444,
              "#bd3786"
             ],
             [
              0.5555555555555556,
              "#d8576b"
             ],
             [
              0.6666666666666666,
              "#ed7953"
             ],
             [
              0.7777777777777778,
              "#fb9f3a"
             ],
             [
              0.8888888888888888,
              "#fdca26"
             ],
             [
              1,
              "#f0f921"
             ]
            ],
            "type": "contour"
           }
          ],
          "contourcarpet": [
           {
            "colorbar": {
             "outlinewidth": 0,
             "ticks": ""
            },
            "type": "contourcarpet"
           }
          ],
          "heatmap": [
           {
            "colorbar": {
             "outlinewidth": 0,
             "ticks": ""
            },
            "colorscale": [
             [
              0,
              "#0d0887"
             ],
             [
              0.1111111111111111,
              "#46039f"
             ],
             [
              0.2222222222222222,
              "#7201a8"
             ],
             [
              0.3333333333333333,
              "#9c179e"
             ],
             [
              0.4444444444444444,
              "#bd3786"
             ],
             [
              0.5555555555555556,
              "#d8576b"
             ],
             [
              0.6666666666666666,
              "#ed7953"
             ],
             [
              0.7777777777777778,
              "#fb9f3a"
             ],
             [
              0.8888888888888888,
              "#fdca26"
             ],
             [
              1,
              "#f0f921"
             ]
            ],
            "type": "heatmap"
           }
          ],
          "heatmapgl": [
           {
            "colorbar": {
             "outlinewidth": 0,
             "ticks": ""
            },
            "colorscale": [
             [
              0,
              "#0d0887"
             ],
             [
              0.1111111111111111,
              "#46039f"
             ],
             [
              0.2222222222222222,
              "#7201a8"
             ],
             [
              0.3333333333333333,
              "#9c179e"
             ],
             [
              0.4444444444444444,
              "#bd3786"
             ],
             [
              0.5555555555555556,
              "#d8576b"
             ],
             [
              0.6666666666666666,
              "#ed7953"
             ],
             [
              0.7777777777777778,
              "#fb9f3a"
             ],
             [
              0.8888888888888888,
              "#fdca26"
             ],
             [
              1,
              "#f0f921"
             ]
            ],
            "type": "heatmapgl"
           }
          ],
          "histogram": [
           {
            "marker": {
             "pattern": {
              "fillmode": "overlay",
              "size": 10,
              "solidity": 0.2
             }
            },
            "type": "histogram"
           }
          ],
          "histogram2d": [
           {
            "colorbar": {
             "outlinewidth": 0,
             "ticks": ""
            },
            "colorscale": [
             [
              0,
              "#0d0887"
             ],
             [
              0.1111111111111111,
              "#46039f"
             ],
             [
              0.2222222222222222,
              "#7201a8"
             ],
             [
              0.3333333333333333,
              "#9c179e"
             ],
             [
              0.4444444444444444,
              "#bd3786"
             ],
             [
              0.5555555555555556,
              "#d8576b"
             ],
             [
              0.6666666666666666,
              "#ed7953"
             ],
             [
              0.7777777777777778,
              "#fb9f3a"
             ],
             [
              0.8888888888888888,
              "#fdca26"
             ],
             [
              1,
              "#f0f921"
             ]
            ],
            "type": "histogram2d"
           }
          ],
          "histogram2dcontour": [
           {
            "colorbar": {
             "outlinewidth": 0,
             "ticks": ""
            },
            "colorscale": [
             [
              0,
              "#0d0887"
             ],
             [
              0.1111111111111111,
              "#46039f"
             ],
             [
              0.2222222222222222,
              "#7201a8"
             ],
             [
              0.3333333333333333,
              "#9c179e"
             ],
             [
              0.4444444444444444,
              "#bd3786"
             ],
             [
              0.5555555555555556,
              "#d8576b"
             ],
             [
              0.6666666666666666,
              "#ed7953"
             ],
             [
              0.7777777777777778,
              "#fb9f3a"
             ],
             [
              0.8888888888888888,
              "#fdca26"
             ],
             [
              1,
              "#f0f921"
             ]
            ],
            "type": "histogram2dcontour"
           }
          ],
          "mesh3d": [
           {
            "colorbar": {
             "outlinewidth": 0,
             "ticks": ""
            },
            "type": "mesh3d"
           }
          ],
          "parcoords": [
           {
            "line": {
             "colorbar": {
              "outlinewidth": 0,
              "ticks": ""
             }
            },
            "type": "parcoords"
           }
          ],
          "pie": [
           {
            "automargin": true,
            "type": "pie"
           }
          ],
          "scatter": [
           {
            "fillpattern": {
             "fillmode": "overlay",
             "size": 10,
             "solidity": 0.2
            },
            "type": "scatter"
           }
          ],
          "scatter3d": [
           {
            "line": {
             "colorbar": {
              "outlinewidth": 0,
              "ticks": ""
             }
            },
            "marker": {
             "colorbar": {
              "outlinewidth": 0,
              "ticks": ""
             }
            },
            "type": "scatter3d"
           }
          ],
          "scattercarpet": [
           {
            "marker": {
             "colorbar": {
              "outlinewidth": 0,
              "ticks": ""
             }
            },
            "type": "scattercarpet"
           }
          ],
          "scattergeo": [
           {
            "marker": {
             "colorbar": {
              "outlinewidth": 0,
              "ticks": ""
             }
            },
            "type": "scattergeo"
           }
          ],
          "scattergl": [
           {
            "marker": {
             "colorbar": {
              "outlinewidth": 0,
              "ticks": ""
             }
            },
            "type": "scattergl"
           }
          ],
          "scattermapbox": [
           {
            "marker": {
             "colorbar": {
              "outlinewidth": 0,
              "ticks": ""
             }
            },
            "type": "scattermapbox"
           }
          ],
          "scatterpolar": [
           {
            "marker": {
             "colorbar": {
              "outlinewidth": 0,
              "ticks": ""
             }
            },
            "type": "scatterpolar"
           }
          ],
          "scatterpolargl": [
           {
            "marker": {
             "colorbar": {
              "outlinewidth": 0,
              "ticks": ""
             }
            },
            "type": "scatterpolargl"
           }
          ],
          "scatterternary": [
           {
            "marker": {
             "colorbar": {
              "outlinewidth": 0,
              "ticks": ""
             }
            },
            "type": "scatterternary"
           }
          ],
          "surface": [
           {
            "colorbar": {
             "outlinewidth": 0,
             "ticks": ""
            },
            "colorscale": [
             [
              0,
              "#0d0887"
             ],
             [
              0.1111111111111111,
              "#46039f"
             ],
             [
              0.2222222222222222,
              "#7201a8"
             ],
             [
              0.3333333333333333,
              "#9c179e"
             ],
             [
              0.4444444444444444,
              "#bd3786"
             ],
             [
              0.5555555555555556,
              "#d8576b"
             ],
             [
              0.6666666666666666,
              "#ed7953"
             ],
             [
              0.7777777777777778,
              "#fb9f3a"
             ],
             [
              0.8888888888888888,
              "#fdca26"
             ],
             [
              1,
              "#f0f921"
             ]
            ],
            "type": "surface"
           }
          ],
          "table": [
           {
            "cells": {
             "fill": {
              "color": "#EBF0F8"
             },
             "line": {
              "color": "white"
             }
            },
            "header": {
             "fill": {
              "color": "#C8D4E3"
             },
             "line": {
              "color": "white"
             }
            },
            "type": "table"
           }
          ]
         },
         "layout": {
          "annotationdefaults": {
           "arrowcolor": "#2a3f5f",
           "arrowhead": 0,
           "arrowwidth": 1
          },
          "autotypenumbers": "strict",
          "coloraxis": {
           "colorbar": {
            "outlinewidth": 0,
            "ticks": ""
           }
          },
          "colorscale": {
           "diverging": [
            [
             0,
             "#8e0152"
            ],
            [
             0.1,
             "#c51b7d"
            ],
            [
             0.2,
             "#de77ae"
            ],
            [
             0.3,
             "#f1b6da"
            ],
            [
             0.4,
             "#fde0ef"
            ],
            [
             0.5,
             "#f7f7f7"
            ],
            [
             0.6,
             "#e6f5d0"
            ],
            [
             0.7,
             "#b8e186"
            ],
            [
             0.8,
             "#7fbc41"
            ],
            [
             0.9,
             "#4d9221"
            ],
            [
             1,
             "#276419"
            ]
           ],
           "sequential": [
            [
             0,
             "#0d0887"
            ],
            [
             0.1111111111111111,
             "#46039f"
            ],
            [
             0.2222222222222222,
             "#7201a8"
            ],
            [
             0.3333333333333333,
             "#9c179e"
            ],
            [
             0.4444444444444444,
             "#bd3786"
            ],
            [
             0.5555555555555556,
             "#d8576b"
            ],
            [
             0.6666666666666666,
             "#ed7953"
            ],
            [
             0.7777777777777778,
             "#fb9f3a"
            ],
            [
             0.8888888888888888,
             "#fdca26"
            ],
            [
             1,
             "#f0f921"
            ]
           ],
           "sequentialminus": [
            [
             0,
             "#0d0887"
            ],
            [
             0.1111111111111111,
             "#46039f"
            ],
            [
             0.2222222222222222,
             "#7201a8"
            ],
            [
             0.3333333333333333,
             "#9c179e"
            ],
            [
             0.4444444444444444,
             "#bd3786"
            ],
            [
             0.5555555555555556,
             "#d8576b"
            ],
            [
             0.6666666666666666,
             "#ed7953"
            ],
            [
             0.7777777777777778,
             "#fb9f3a"
            ],
            [
             0.8888888888888888,
             "#fdca26"
            ],
            [
             1,
             "#f0f921"
            ]
           ]
          },
          "colorway": [
           "#636efa",
           "#EF553B",
           "#00cc96",
           "#ab63fa",
           "#FFA15A",
           "#19d3f3",
           "#FF6692",
           "#B6E880",
           "#FF97FF",
           "#FECB52"
          ],
          "font": {
           "color": "#2a3f5f"
          },
          "geo": {
           "bgcolor": "white",
           "lakecolor": "white",
           "landcolor": "#E5ECF6",
           "showlakes": true,
           "showland": true,
           "subunitcolor": "white"
          },
          "hoverlabel": {
           "align": "left"
          },
          "hovermode": "closest",
          "mapbox": {
           "style": "light"
          },
          "paper_bgcolor": "white",
          "plot_bgcolor": "#E5ECF6",
          "polar": {
           "angularaxis": {
            "gridcolor": "white",
            "linecolor": "white",
            "ticks": ""
           },
           "bgcolor": "#E5ECF6",
           "radialaxis": {
            "gridcolor": "white",
            "linecolor": "white",
            "ticks": ""
           }
          },
          "scene": {
           "xaxis": {
            "backgroundcolor": "#E5ECF6",
            "gridcolor": "white",
            "gridwidth": 2,
            "linecolor": "white",
            "showbackground": true,
            "ticks": "",
            "zerolinecolor": "white"
           },
           "yaxis": {
            "backgroundcolor": "#E5ECF6",
            "gridcolor": "white",
            "gridwidth": 2,
            "linecolor": "white",
            "showbackground": true,
            "ticks": "",
            "zerolinecolor": "white"
           },
           "zaxis": {
            "backgroundcolor": "#E5ECF6",
            "gridcolor": "white",
            "gridwidth": 2,
            "linecolor": "white",
            "showbackground": true,
            "ticks": "",
            "zerolinecolor": "white"
           }
          },
          "shapedefaults": {
           "line": {
            "color": "#2a3f5f"
           }
          },
          "ternary": {
           "aaxis": {
            "gridcolor": "white",
            "linecolor": "white",
            "ticks": ""
           },
           "baxis": {
            "gridcolor": "white",
            "linecolor": "white",
            "ticks": ""
           },
           "bgcolor": "#E5ECF6",
           "caxis": {
            "gridcolor": "white",
            "linecolor": "white",
            "ticks": ""
           }
          },
          "title": {
           "x": 0.05
          },
          "xaxis": {
           "automargin": true,
           "gridcolor": "white",
           "linecolor": "white",
           "ticks": "",
           "title": {
            "standoff": 15
           },
           "zerolinecolor": "white",
           "zerolinewidth": 2
          },
          "yaxis": {
           "automargin": true,
           "gridcolor": "white",
           "linecolor": "white",
           "ticks": "",
           "title": {
            "standoff": 15
           },
           "zerolinecolor": "white",
           "zerolinewidth": 2
          }
         }
        },
        "title": {
         "text": "Valor agregado del comercio electrónico para cada tipo de tiendas de la ANTAD de 2013 a 2022"
        },
        "xaxis": {
         "anchor": "y",
         "domain": [
          0,
          1
         ],
         "title": {
          "text": "Año"
         }
        },
        "yaxis": {
         "anchor": "x",
         "domain": [
          0,
          1
         ],
         "title": {
          "text": "Valor Agregado"
         }
        }
       }
      }
     },
     "metadata": {},
     "output_type": "display_data"
    }
   ],
   "source": [
    "# Graficamos los resultados\n",
    "import plotly.express as px\n",
    "\n",
    "fig = px.line(eac_antad, \n",
    "              x='ANIO', \n",
    "              y='valor_agregado',\n",
    "              color='tipo_antad',\n",
    "              markers=True,\n",
    "              title='Valor agregado del comercio electrónico para cada tipo de tiendas de la ANTAD de 2013 a 2022')\n",
    "\n",
    "fig.update_layout(\n",
    "    xaxis_title='Año',\n",
    "    yaxis_title='Valor Agregado',\n",
    "    legend_title='Tipo de tienda'\n",
    ")\n",
    "\n",
    "fig.show()"
   ]
  },
  {
   "cell_type": "code",
   "execution_count": null,
   "metadata": {},
   "outputs": [],
   "source": []
  }
 ],
 "metadata": {
  "kernelspec": {
   "display_name": "pandas",
   "language": "python",
   "name": "python3"
  },
  "language_info": {
   "codemirror_mode": {
    "name": "ipython",
    "version": 3
   },
   "file_extension": ".py",
   "mimetype": "text/x-python",
   "name": "python",
   "nbconvert_exporter": "python",
   "pygments_lexer": "ipython3",
   "version": "3.10.9"
  }
 },
 "nbformat": 4,
 "nbformat_minor": 2
}
